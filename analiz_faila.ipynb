{
 "cells": [
  {
   "cell_type": "code",
   "execution_count": 643,
   "outputs": [],
   "source": [
    "# Установка и импорт необходимых библиотек\n",
    "# pip install pandas, numpy, sklearn, seaborn\n",
    "import pandas as pd\n",
    "import seaborn as sns\n",
    "from sklearn import tree\n",
    "from sklearn.model_selection import train_test_split, cross_val_score"
   ],
   "metadata": {
    "collapsed": false,
    "pycharm": {
     "name": "#%%\n"
    }
   }
  },
  {
   "cell_type": "code",
   "execution_count": 644,
   "metadata": {
    "collapsed": true
   },
   "outputs": [
    {
     "data": {
      "text/plain": "survived         0\npclass           0\nsex              0\nage            177\nsibsp            0\nparch            0\nfare             0\nembarked         2\nclass            0\nwho              0\nadult_male       0\ndeck           688\nembark_town      2\nalive            0\nalone            0\ndtype: int64"
     },
     "execution_count": 644,
     "metadata": {},
     "output_type": "execute_result"
    }
   ],
   "source": [
    "# Начало войны с отсутствующими данными!\n",
    "titanic_origin = pd.read_csv(\"titanic.csv\")\n",
    "titanic_origin.isnull().sum()  # Количество пропусков"
   ]
  },
  {
   "cell_type": "code",
   "execution_count": 645,
   "outputs": [
    {
     "name": "stderr",
     "output_type": "stream",
     "text": [
      "C:\\Users\\Niki\\AppData\\Local\\Temp\\ipykernel_11476\\2394188907.py:4: SettingWithCopyWarning: \n",
      "A value is trying to be set on a copy of a slice from a DataFrame\n",
      "\n",
      "See the caveats in the documentation: https://pandas.pydata.org/pandas-docs/stable/user_guide/indexing.html#returning-a-view-versus-a-copy\n",
      "  titanic.pclass.loc[((titanic.pclass == 3) | (titanic.pclass == 2)) & (titanic.fare > 46)] = 1\n",
      "C:\\Users\\Niki\\AppData\\Local\\Temp\\ipykernel_11476\\2394188907.py:5: SettingWithCopyWarning: \n",
      "A value is trying to be set on a copy of a slice from a DataFrame\n",
      "\n",
      "See the caveats in the documentation: https://pandas.pydata.org/pandas-docs/stable/user_guide/indexing.html#returning-a-view-versus-a-copy\n",
      "  titanic.pclass.loc[(titanic.pclass == 3) & (titanic.fare > 20)] = 2\n",
      "C:\\Users\\Niki\\AppData\\Local\\Temp\\ipykernel_11476\\2394188907.py:6: SettingWithCopyWarning: \n",
      "A value is trying to be set on a copy of a slice from a DataFrame\n",
      "\n",
      "See the caveats in the documentation: https://pandas.pydata.org/pandas-docs/stable/user_guide/indexing.html#returning-a-view-versus-a-copy\n",
      "  titanic.pclass.loc[(titanic.pclass == 2) & (titanic.fare > 40)] = 1\n",
      "C:\\Users\\Niki\\AppData\\Local\\Temp\\ipykernel_11476\\2394188907.py:7: SettingWithCopyWarning: \n",
      "A value is trying to be set on a copy of a slice from a DataFrame\n",
      "\n",
      "See the caveats in the documentation: https://pandas.pydata.org/pandas-docs/stable/user_guide/indexing.html#returning-a-view-versus-a-copy\n",
      "  titanic[\"class\"].loc[(titanic.pclass == 1) & (titanic[\"class\"] != \"First\")] = \"First\"\n",
      "C:\\Users\\Niki\\AppData\\Local\\Temp\\ipykernel_11476\\2394188907.py:8: SettingWithCopyWarning: \n",
      "A value is trying to be set on a copy of a slice from a DataFrame\n",
      "\n",
      "See the caveats in the documentation: https://pandas.pydata.org/pandas-docs/stable/user_guide/indexing.html#returning-a-view-versus-a-copy\n",
      "  titanic[\"class\"].loc[(titanic.pclass == 2) & (titanic[\"class\"] != \"Second\")] = \"Second\"\n",
      "C:\\Users\\Niki\\AppData\\Local\\Temp\\ipykernel_11476\\2394188907.py:9: SettingWithCopyWarning: \n",
      "A value is trying to be set on a copy of a slice from a DataFrame\n",
      "\n",
      "See the caveats in the documentation: https://pandas.pydata.org/pandas-docs/stable/user_guide/indexing.html#returning-a-view-versus-a-copy\n",
      "  titanic.fare.loc[(titanic.pclass == 3) & (titanic.fare == 0)] = titanic.loc[(titanic.pclass == 3) & (titanic.fare != 0)].fare.mean()\n",
      "C:\\Users\\Niki\\AppData\\Local\\Temp\\ipykernel_11476\\2394188907.py:10: SettingWithCopyWarning: \n",
      "A value is trying to be set on a copy of a slice from a DataFrame\n",
      "\n",
      "See the caveats in the documentation: https://pandas.pydata.org/pandas-docs/stable/user_guide/indexing.html#returning-a-view-versus-a-copy\n",
      "  titanic.fare.loc[(titanic.pclass == 2) & (titanic.fare == 0)] = titanic.loc[(titanic.pclass == 2) & (titanic.fare != 0)].fare.mean()\n",
      "C:\\Users\\Niki\\AppData\\Local\\Temp\\ipykernel_11476\\2394188907.py:11: SettingWithCopyWarning: \n",
      "A value is trying to be set on a copy of a slice from a DataFrame\n",
      "\n",
      "See the caveats in the documentation: https://pandas.pydata.org/pandas-docs/stable/user_guide/indexing.html#returning-a-view-versus-a-copy\n",
      "  titanic.fare.loc[(titanic.pclass == 1) & (titanic.fare == 0)] = titanic.loc[(titanic.pclass == 1) & (titanic.fare != 0)].fare.mean()\n"
     ]
    }
   ],
   "source": [
    "titanic = pd.read_csv(\"titanic.csv\") # Загружаем таблицу\n",
    "\n",
    "# Правим кривые данные\n",
    "titanic.pclass.loc[((titanic.pclass == 3) | (titanic.pclass == 2)) & (titanic.fare > 46)] = 1\n",
    "titanic.pclass.loc[(titanic.pclass == 3) & (titanic.fare > 20)] = 2\n",
    "titanic.pclass.loc[(titanic.pclass == 2) & (titanic.fare > 40)] = 1\n",
    "titanic[\"class\"].loc[(titanic.pclass == 1) & (titanic[\"class\"] != \"First\")] = \"First\"\n",
    "titanic[\"class\"].loc[(titanic.pclass == 2) & (titanic[\"class\"] != \"Second\")] = \"Second\"\n",
    "titanic.fare.loc[(titanic.pclass == 3) & (titanic.fare == 0)] = titanic.loc[(titanic.pclass == 3) & (titanic.fare != 0)].fare.mean()\n",
    "titanic.fare.loc[(titanic.pclass == 2) & (titanic.fare == 0)] = titanic.loc[(titanic.pclass == 2) & (titanic.fare != 0)].fare.mean()\n",
    "titanic.fare.loc[(titanic.pclass == 1) & (titanic.fare == 0)] = titanic.loc[(titanic.pclass == 1) & (titanic.fare != 0)].fare.mean()"
   ],
   "metadata": {
    "collapsed": false,
    "pycharm": {
     "name": "#%%\n"
    }
   }
  },
  {
   "cell_type": "code",
   "execution_count": 646,
   "outputs": [],
   "source": [
    "titanic = titanic.assign(passenger_id=range(titanic.shape[0])) # Создаём id пассажирам\n",
    "\n",
    "titanic_for_ml_age = titanic.copy()  # Копируем табличку\n",
    "\n",
    "# Подготавливаем данные для машинного обучения. Удаляем лишние значения, заменяем текстовые на числовые\n",
    "titanic_for_ml_age.sex = titanic_for_ml_age.sex.replace([\"male\", \"female\"], [0, 1])\n",
    "titanic_for_ml_age = titanic_for_ml_age.drop([\"class\", \"deck\", \"embarked\", \"alive\", \"fare\", \"embark_town\"], axis=1)\n",
    "titanic_for_ml_age.who = titanic_for_ml_age.who.replace([\"man\", \"woman\", \"child\"], [0, 1, 2])\n",
    "\n",
    "# Всё float надо было преобразовать в int, так как дерево с данным методом обучения не оценивает значения с точкой\n",
    "titanic_for_ml_age.who = titanic_for_ml_age.who.apply(int)\n",
    "titanic_for_ml_age.adult_male = titanic_for_ml_age.adult_male.apply(int)\n",
    "\n",
    "titanic_for_test_age = titanic_for_ml_age.loc[titanic_for_ml_age.age.isnull()]  # Забираем данные, в которых надо возраст найти\n",
    "\n",
    "titanic_for_test_age = titanic_for_test_age.drop([\"age\"], axis=1)  # Удаляем колонку с возрастами\n",
    "\n",
    "titanic_for_ml_age = titanic_for_ml_age.dropna()  # Удаляем строки с отсутствующими возрастами\n",
    "\n",
    "titanic_for_ml_age.age = titanic_for_ml_age.age.apply(int)\n",
    "\n",
    "# Создаём данные для тренировки нейронной сети\n",
    "X_titanic_age = titanic_for_ml_age.drop([\"age\"], axis=1)\n",
    "y_titanic_age = titanic_for_ml_age.age"
   ],
   "metadata": {
    "collapsed": false,
    "pycharm": {
     "name": "#%%\n"
    }
   }
  },
  {
   "cell_type": "code",
   "execution_count": 647,
   "outputs": [
    {
     "name": "stderr",
     "output_type": "stream",
     "text": [
      "C:\\Users\\Niki\\AppData\\Local\\Temp\\ipykernel_11476\\1169121240.py:29: FutureWarning: The frame.append method is deprecated and will be removed from pandas in a future version. Use pandas.concat instead.\n",
      "  scores_data = scores_data.append({'max_depth': max_depth, 'train_score': train_score, \"test_score\": test_score, \"mistake_5\": mistake_5,\n",
      "C:\\Users\\Niki\\AppData\\Local\\Temp\\ipykernel_11476\\1169121240.py:29: FutureWarning: The frame.append method is deprecated and will be removed from pandas in a future version. Use pandas.concat instead.\n",
      "  scores_data = scores_data.append({'max_depth': max_depth, 'train_score': train_score, \"test_score\": test_score, \"mistake_5\": mistake_5,\n",
      "C:\\Users\\Niki\\AppData\\Local\\Temp\\ipykernel_11476\\1169121240.py:29: FutureWarning: The frame.append method is deprecated and will be removed from pandas in a future version. Use pandas.concat instead.\n",
      "  scores_data = scores_data.append({'max_depth': max_depth, 'train_score': train_score, \"test_score\": test_score, \"mistake_5\": mistake_5,\n",
      "C:\\Users\\Niki\\AppData\\Local\\Temp\\ipykernel_11476\\1169121240.py:29: FutureWarning: The frame.append method is deprecated and will be removed from pandas in a future version. Use pandas.concat instead.\n",
      "  scores_data = scores_data.append({'max_depth': max_depth, 'train_score': train_score, \"test_score\": test_score, \"mistake_5\": mistake_5,\n",
      "C:\\Users\\Niki\\AppData\\Local\\Temp\\ipykernel_11476\\1169121240.py:29: FutureWarning: The frame.append method is deprecated and will be removed from pandas in a future version. Use pandas.concat instead.\n",
      "  scores_data = scores_data.append({'max_depth': max_depth, 'train_score': train_score, \"test_score\": test_score, \"mistake_5\": mistake_5,\n",
      "C:\\Users\\Niki\\AppData\\Local\\Temp\\ipykernel_11476\\1169121240.py:29: FutureWarning: The frame.append method is deprecated and will be removed from pandas in a future version. Use pandas.concat instead.\n",
      "  scores_data = scores_data.append({'max_depth': max_depth, 'train_score': train_score, \"test_score\": test_score, \"mistake_5\": mistake_5,\n",
      "C:\\Users\\Niki\\AppData\\Local\\Temp\\ipykernel_11476\\1169121240.py:29: FutureWarning: The frame.append method is deprecated and will be removed from pandas in a future version. Use pandas.concat instead.\n",
      "  scores_data = scores_data.append({'max_depth': max_depth, 'train_score': train_score, \"test_score\": test_score, \"mistake_5\": mistake_5,\n",
      "C:\\Users\\Niki\\AppData\\Local\\Temp\\ipykernel_11476\\1169121240.py:29: FutureWarning: The frame.append method is deprecated and will be removed from pandas in a future version. Use pandas.concat instead.\n",
      "  scores_data = scores_data.append({'max_depth': max_depth, 'train_score': train_score, \"test_score\": test_score, \"mistake_5\": mistake_5,\n",
      "C:\\Users\\Niki\\AppData\\Local\\Temp\\ipykernel_11476\\1169121240.py:29: FutureWarning: The frame.append method is deprecated and will be removed from pandas in a future version. Use pandas.concat instead.\n",
      "  scores_data = scores_data.append({'max_depth': max_depth, 'train_score': train_score, \"test_score\": test_score, \"mistake_5\": mistake_5,\n",
      "C:\\Users\\Niki\\AppData\\Local\\Temp\\ipykernel_11476\\1169121240.py:29: FutureWarning: The frame.append method is deprecated and will be removed from pandas in a future version. Use pandas.concat instead.\n",
      "  scores_data = scores_data.append({'max_depth': max_depth, 'train_score': train_score, \"test_score\": test_score, \"mistake_5\": mistake_5,\n",
      "C:\\Users\\Niki\\AppData\\Local\\Temp\\ipykernel_11476\\1169121240.py:29: FutureWarning: The frame.append method is deprecated and will be removed from pandas in a future version. Use pandas.concat instead.\n",
      "  scores_data = scores_data.append({'max_depth': max_depth, 'train_score': train_score, \"test_score\": test_score, \"mistake_5\": mistake_5,\n",
      "C:\\Users\\Niki\\AppData\\Local\\Temp\\ipykernel_11476\\1169121240.py:29: FutureWarning: The frame.append method is deprecated and will be removed from pandas in a future version. Use pandas.concat instead.\n",
      "  scores_data = scores_data.append({'max_depth': max_depth, 'train_score': train_score, \"test_score\": test_score, \"mistake_5\": mistake_5,\n",
      "C:\\Users\\Niki\\AppData\\Local\\Temp\\ipykernel_11476\\1169121240.py:29: FutureWarning: The frame.append method is deprecated and will be removed from pandas in a future version. Use pandas.concat instead.\n",
      "  scores_data = scores_data.append({'max_depth': max_depth, 'train_score': train_score, \"test_score\": test_score, \"mistake_5\": mistake_5,\n",
      "C:\\Users\\Niki\\AppData\\Local\\Temp\\ipykernel_11476\\1169121240.py:29: FutureWarning: The frame.append method is deprecated and will be removed from pandas in a future version. Use pandas.concat instead.\n",
      "  scores_data = scores_data.append({'max_depth': max_depth, 'train_score': train_score, \"test_score\": test_score, \"mistake_5\": mistake_5,\n",
      "C:\\Users\\Niki\\AppData\\Local\\Temp\\ipykernel_11476\\1169121240.py:29: FutureWarning: The frame.append method is deprecated and will be removed from pandas in a future version. Use pandas.concat instead.\n",
      "  scores_data = scores_data.append({'max_depth': max_depth, 'train_score': train_score, \"test_score\": test_score, \"mistake_5\": mistake_5,\n"
     ]
    },
    {
     "data": {
      "text/plain": "<AxesSubplot:xlabel='max_depth', ylabel='score'>"
     },
     "execution_count": 647,
     "metadata": {},
     "output_type": "execute_result"
    },
    {
     "data": {
      "text/plain": "<Figure size 432x288 with 1 Axes>",
      "image/png": "[encoded data removed]"
     },
     "metadata": {
      "needs_background": "light"
     },
     "output_type": "display_data"
    }
   ],
   "source": [
    "# Создаём таблицу, что бы найти оптимальную глубину дерева\n",
    "scores_data = pd.DataFrame({'max_depth': [], 'train_score': [], 'test_score': [], \"mistake_5\": [], \"mistake_10\": []})\n",
    "\n",
    "# Разбиваем данные для тренировки и проверки модели\n",
    "X_titanic_train_age, X_titanic_test_age, y_titanic_train_age, y_titanic_test_age = train_test_split(X_titanic_age, y_titanic_age, test_size=0.3, random_state=10)\n",
    "\n",
    "for max_depth in range(1, 16):\n",
    "    titanic_tree_age = tree.DecisionTreeClassifier(criterion=\"entropy\", max_depth=max_depth) # Создаём\n",
    "\n",
    "    titanic_tree_age.fit(X_titanic_train_age, y_titanic_train_age)  # Тренируем\n",
    "    train_score = titanic_tree_age.score(X_titanic_train_age, y_titanic_train_age) # Тестируем\n",
    "\n",
    "    test_score = titanic_tree_age.score(X_titanic_test_age, y_titanic_test_age)  # Результат угадывания возраста с идеальной точностью\n",
    "\n",
    "    ages = list(titanic_tree_age.predict(X_titanic_test_age))\n",
    "\n",
    "    mistake_5 = 0\n",
    "    for i in range(X_titanic_test_age.shape[0]):\n",
    "        if y_titanic_test_age.iloc[i] - 5 < ages[i] < y_titanic_test_age.iloc[i] + 5:\n",
    "            mistake_5 += 1\n",
    "    mistake_5 /= X_titanic_test_age.shape[0]  # Результат угадывания возраста с погрешностью в +- 5 лет\n",
    "\n",
    "    mistake_10 = 0\n",
    "    for i in range(X_titanic_test_age.shape[0]):\n",
    "        if y_titanic_test_age.iloc[i] - 10 < ages[i] < y_titanic_test_age.iloc[i] + 10:\n",
    "            mistake_10 += 1\n",
    "    mistake_10 /= X_titanic_test_age.shape[0]  # Результат угадывания возраста с погрешностью в +- 10 лет\n",
    "\n",
    "    scores_data = scores_data.append({'max_depth': max_depth, 'train_score': train_score, \"test_score\": test_score, \"mistake_5\": mistake_5,\n",
    "                                      \"mistake_10\": mistake_10}, ignore_index=True)\n",
    "\n",
    "# Преобразуем данные для красивой таблички\n",
    "scores_data_long = pd.melt(scores_data, id_vars=['max_depth'], value_vars=['train_score', 'test_score', \"mistake_5\", \"mistake_10\"], var_name=\"set_type\", value_name=\"score\")\n",
    "sns.lineplot(x=\"max_depth\", y=\"score\", hue=\"set_type\", data=scores_data_long) # Рисуем красивую табличку"
   ],
   "metadata": {
    "collapsed": false,
    "pycharm": {
     "name": "#%%\n"
    }
   }
  },
  {
   "cell_type": "code",
   "execution_count": 648,
   "outputs": [],
   "source": [
    "titanic_tree_age = tree.DecisionTreeClassifier(criterion=\"entropy\", max_depth=9)  # Создаём модель с максимальной эффективностью\n",
    "\n",
    "titanic_tree_age.fit(X_titanic_age, y_titanic_age)  # Скармливаем весь доступный датасет, ведь чем больше данных, тем точнее предсказание\n",
    "\n",
    "titanic_for_test_age[\"age\"] = list(titanic_tree_age.predict(titanic_for_test_age))  # Находим утерянные возраста людей\n",
    "\n",
    "titanic_2 = titanic.copy()  # Копируем датасет оригинальный для мёрджа\n",
    "\n",
    "# Всю эту лабуду можно сделать и проще, но я не нашёл как\n",
    "titanic_2 = titanic_2.merge(titanic_for_test_age[[\"passenger_id\", \"age\"]], on=\"passenger_id\", how=\"left\")\n",
    "titanic.age.where(~(titanic.age.isnull()), other=titanic_2.age_y, inplace=True)"
   ],
   "metadata": {
    "collapsed": false,
    "pycharm": {
     "name": "#%%\n"
    }
   }
  },
  {
   "cell_type": "code",
   "execution_count": 649,
   "outputs": [
    {
     "name": "stdout",
     "output_type": "stream",
     "text": [
      "survived          0\n",
      "pclass            0\n",
      "sex               0\n",
      "age               0\n",
      "sibsp             0\n",
      "parch             0\n",
      "fare              0\n",
      "embarked          2\n",
      "class             0\n",
      "who               0\n",
      "adult_male        0\n",
      "deck            688\n",
      "embark_town       2\n",
      "alive             0\n",
      "alone             0\n",
      "passenger_id      0\n",
      "dtype: int64 \n",
      "\n",
      "\n",
      "Различие среднего возраста пассажиров: 0.5395553574965319\n",
      "Различие медианного возраста: 0.0\n"
     ]
    }
   ],
   "source": [
    "print(titanic.isnull().sum(), \"\\n\\n\")  # Проверяем, что всё у нас круто и вообще мы молодцы\n",
    "\n",
    "# Сравниваем отсутствие огромных различий в получившихся результатах\n",
    "titanic_original =  pd.read_csv(\"titanic.csv\")\n",
    "print(\"Различие среднего возраста пассажиров:\", titanic_original.age.mean() - titanic.age.mean())\n",
    "print(\"Различие медианного возраста:\", titanic_original.age.median() - titanic.age.median())"
   ],
   "metadata": {
    "collapsed": false,
    "pycharm": {
     "name": "#%%\n"
    }
   }
  },
  {
   "cell_type": "code",
   "execution_count": 650,
   "outputs": [],
   "source": [
    "# После заполнения возрастов было бы недурно заполнить и палубы\n",
    "\n",
    "titanic_for_ml_deck = titanic.copy()  # Копируем табличку\n",
    "\n",
    "# Подготавливаем данные для машинного обучения. Удаляем лишние значения, заменяем текстовые на числовые\n",
    "titanic_for_ml_deck = titanic_for_ml_deck.drop([\"class\", \"embark_town\", \"alive\", \"age\", \"sibsp\", \"who\", \"adult_male\", \"parch\"], axis=1)\n",
    "\n",
    "titanic_for_ml_deck = titanic_for_ml_deck[titanic_for_ml_deck.embarked.notna()]  # Удаляем два предательски отсутствующих города отправления\n",
    "\n",
    "titanic_for_ml_deck.sex = titanic_for_ml_deck.sex.replace([\"male\", \"female\"], [0, 1])\n",
    "titanic_for_ml_deck.fare = titanic_for_ml_deck.fare.apply(int)\n",
    "titanic_for_ml_deck.embarked = titanic_for_ml_deck.embarked.replace([\"S\", \"C\", \"Q\"], [0, 1, 2])\n",
    "titanic_for_ml_deck.embarked = titanic_for_ml_deck.embarked.apply(int)\n",
    "\n",
    "titanic_for_test_deck = titanic_for_ml_deck.loc[titanic_for_ml_deck.deck.isnull()]  # Забираем данные, в которых надо палубу найти\n",
    "\n",
    "titanic_for_test_deck = titanic_for_test_deck.drop([\"deck\"], axis=1)  # Удаляем колонку с палубами\n",
    "\n",
    "titanic_for_ml_deck = titanic_for_ml_deck.dropna()  # Удаляем строки с отсутствующими палубами\n",
    "\n",
    "titanic_for_ml_deck.deck = titanic_for_ml_deck.deck.replace([\"A\", \"B\", \"C\", \"D\", \"E\", \"F\", \"G\"], [0, 1, 2, 3, 4, 5, 6])\n",
    "titanic_for_ml_deck.deck = titanic_for_ml_deck.deck.apply(int)\n",
    "\n",
    "# Создаём данные для тренировки нейронной сети\n",
    "X_titanic_deck = titanic_for_ml_deck.drop([\"deck\"], axis=1)\n",
    "y_titanic_deck = titanic_for_ml_deck.deck"
   ],
   "metadata": {
    "collapsed": false,
    "pycharm": {
     "name": "#%%\n"
    }
   }
  },
  {
   "cell_type": "code",
   "execution_count": 651,
   "outputs": [
    {
     "name": "stderr",
     "output_type": "stream",
     "text": [
      "c:\\users\\niki\\pycharmprojects\\yandexlyceum\\foryl\\venv\\lib\\site-packages\\sklearn\\model_selection\\_split.py:676: UserWarning: The least populated class in y has only 2 members, which is less than n_splits=5.\n",
      "  warnings.warn(\n",
      "C:\\Users\\Niki\\AppData\\Local\\Temp\\ipykernel_11476\\3757604738.py:17: FutureWarning: The frame.append method is deprecated and will be removed from pandas in a future version. Use pandas.concat instead.\n",
      "  scores_data = scores_data.append({'max_depth': max_depth, 'train_score': train_score, \"test_score\": test_score,\n",
      "c:\\users\\niki\\pycharmprojects\\yandexlyceum\\foryl\\venv\\lib\\site-packages\\sklearn\\model_selection\\_split.py:676: UserWarning: The least populated class in y has only 2 members, which is less than n_splits=5.\n",
      "  warnings.warn(\n",
      "C:\\Users\\Niki\\AppData\\Local\\Temp\\ipykernel_11476\\3757604738.py:17: FutureWarning: The frame.append method is deprecated and will be removed from pandas in a future version. Use pandas.concat instead.\n",
      "  scores_data = scores_data.append({'max_depth': max_depth, 'train_score': train_score, \"test_score\": test_score,\n",
      "c:\\users\\niki\\pycharmprojects\\yandexlyceum\\foryl\\venv\\lib\\site-packages\\sklearn\\model_selection\\_split.py:676: UserWarning: The least populated class in y has only 2 members, which is less than n_splits=5.\n",
      "  warnings.warn(\n",
      "C:\\Users\\Niki\\AppData\\Local\\Temp\\ipykernel_11476\\3757604738.py:17: FutureWarning: The frame.append method is deprecated and will be removed from pandas in a future version. Use pandas.concat instead.\n",
      "  scores_data = scores_data.append({'max_depth': max_depth, 'train_score': train_score, \"test_score\": test_score,\n",
      "c:\\users\\niki\\pycharmprojects\\yandexlyceum\\foryl\\venv\\lib\\site-packages\\sklearn\\model_selection\\_split.py:676: UserWarning: The least populated class in y has only 2 members, which is less than n_splits=5.\n",
      "  warnings.warn(\n",
      "C:\\Users\\Niki\\AppData\\Local\\Temp\\ipykernel_11476\\3757604738.py:17: FutureWarning: The frame.append method is deprecated and will be removed from pandas in a future version. Use pandas.concat instead.\n",
      "  scores_data = scores_data.append({'max_depth': max_depth, 'train_score': train_score, \"test_score\": test_score,\n",
      "c:\\users\\niki\\pycharmprojects\\yandexlyceum\\foryl\\venv\\lib\\site-packages\\sklearn\\model_selection\\_split.py:676: UserWarning: The least populated class in y has only 2 members, which is less than n_splits=5.\n",
      "  warnings.warn(\n",
      "C:\\Users\\Niki\\AppData\\Local\\Temp\\ipykernel_11476\\3757604738.py:17: FutureWarning: The frame.append method is deprecated and will be removed from pandas in a future version. Use pandas.concat instead.\n",
      "  scores_data = scores_data.append({'max_depth': max_depth, 'train_score': train_score, \"test_score\": test_score,\n",
      "c:\\users\\niki\\pycharmprojects\\yandexlyceum\\foryl\\venv\\lib\\site-packages\\sklearn\\model_selection\\_split.py:676: UserWarning: The least populated class in y has only 2 members, which is less than n_splits=5.\n",
      "  warnings.warn(\n",
      "C:\\Users\\Niki\\AppData\\Local\\Temp\\ipykernel_11476\\3757604738.py:17: FutureWarning: The frame.append method is deprecated and will be removed from pandas in a future version. Use pandas.concat instead.\n",
      "  scores_data = scores_data.append({'max_depth': max_depth, 'train_score': train_score, \"test_score\": test_score,\n",
      "c:\\users\\niki\\pycharmprojects\\yandexlyceum\\foryl\\venv\\lib\\site-packages\\sklearn\\model_selection\\_split.py:676: UserWarning: The least populated class in y has only 2 members, which is less than n_splits=5.\n",
      "  warnings.warn(\n",
      "C:\\Users\\Niki\\AppData\\Local\\Temp\\ipykernel_11476\\3757604738.py:17: FutureWarning: The frame.append method is deprecated and will be removed from pandas in a future version. Use pandas.concat instead.\n",
      "  scores_data = scores_data.append({'max_depth': max_depth, 'train_score': train_score, \"test_score\": test_score,\n",
      "c:\\users\\niki\\pycharmprojects\\yandexlyceum\\foryl\\venv\\lib\\site-packages\\sklearn\\model_selection\\_split.py:676: UserWarning: The least populated class in y has only 2 members, which is less than n_splits=5.\n",
      "  warnings.warn(\n",
      "C:\\Users\\Niki\\AppData\\Local\\Temp\\ipykernel_11476\\3757604738.py:17: FutureWarning: The frame.append method is deprecated and will be removed from pandas in a future version. Use pandas.concat instead.\n",
      "  scores_data = scores_data.append({'max_depth': max_depth, 'train_score': train_score, \"test_score\": test_score,\n",
      "c:\\users\\niki\\pycharmprojects\\yandexlyceum\\foryl\\venv\\lib\\site-packages\\sklearn\\model_selection\\_split.py:676: UserWarning: The least populated class in y has only 2 members, which is less than n_splits=5.\n",
      "  warnings.warn(\n",
      "C:\\Users\\Niki\\AppData\\Local\\Temp\\ipykernel_11476\\3757604738.py:17: FutureWarning: The frame.append method is deprecated and will be removed from pandas in a future version. Use pandas.concat instead.\n",
      "  scores_data = scores_data.append({'max_depth': max_depth, 'train_score': train_score, \"test_score\": test_score,\n",
      "c:\\users\\niki\\pycharmprojects\\yandexlyceum\\foryl\\venv\\lib\\site-packages\\sklearn\\model_selection\\_split.py:676: UserWarning: The least populated class in y has only 2 members, which is less than n_splits=5.\n",
      "  warnings.warn(\n",
      "C:\\Users\\Niki\\AppData\\Local\\Temp\\ipykernel_11476\\3757604738.py:17: FutureWarning: The frame.append method is deprecated and will be removed from pandas in a future version. Use pandas.concat instead.\n",
      "  scores_data = scores_data.append({'max_depth': max_depth, 'train_score': train_score, \"test_score\": test_score,\n",
      "c:\\users\\niki\\pycharmprojects\\yandexlyceum\\foryl\\venv\\lib\\site-packages\\sklearn\\model_selection\\_split.py:676: UserWarning: The least populated class in y has only 2 members, which is less than n_splits=5.\n",
      "  warnings.warn(\n",
      "C:\\Users\\Niki\\AppData\\Local\\Temp\\ipykernel_11476\\3757604738.py:17: FutureWarning: The frame.append method is deprecated and will be removed from pandas in a future version. Use pandas.concat instead.\n",
      "  scores_data = scores_data.append({'max_depth': max_depth, 'train_score': train_score, \"test_score\": test_score,\n",
      "c:\\users\\niki\\pycharmprojects\\yandexlyceum\\foryl\\venv\\lib\\site-packages\\sklearn\\model_selection\\_split.py:676: UserWarning: The least populated class in y has only 2 members, which is less than n_splits=5.\n",
      "  warnings.warn(\n",
      "C:\\Users\\Niki\\AppData\\Local\\Temp\\ipykernel_11476\\3757604738.py:17: FutureWarning: The frame.append method is deprecated and will be removed from pandas in a future version. Use pandas.concat instead.\n",
      "  scores_data = scores_data.append({'max_depth': max_depth, 'train_score': train_score, \"test_score\": test_score,\n",
      "c:\\users\\niki\\pycharmprojects\\yandexlyceum\\foryl\\venv\\lib\\site-packages\\sklearn\\model_selection\\_split.py:676: UserWarning: The least populated class in y has only 2 members, which is less than n_splits=5.\n",
      "  warnings.warn(\n",
      "C:\\Users\\Niki\\AppData\\Local\\Temp\\ipykernel_11476\\3757604738.py:17: FutureWarning: The frame.append method is deprecated and will be removed from pandas in a future version. Use pandas.concat instead.\n",
      "  scores_data = scores_data.append({'max_depth': max_depth, 'train_score': train_score, \"test_score\": test_score,\n",
      "c:\\users\\niki\\pycharmprojects\\yandexlyceum\\foryl\\venv\\lib\\site-packages\\sklearn\\model_selection\\_split.py:676: UserWarning: The least populated class in y has only 2 members, which is less than n_splits=5.\n",
      "  warnings.warn(\n",
      "C:\\Users\\Niki\\AppData\\Local\\Temp\\ipykernel_11476\\3757604738.py:17: FutureWarning: The frame.append method is deprecated and will be removed from pandas in a future version. Use pandas.concat instead.\n",
      "  scores_data = scores_data.append({'max_depth': max_depth, 'train_score': train_score, \"test_score\": test_score,\n",
      "c:\\users\\niki\\pycharmprojects\\yandexlyceum\\foryl\\venv\\lib\\site-packages\\sklearn\\model_selection\\_split.py:676: UserWarning: The least populated class in y has only 2 members, which is less than n_splits=5.\n",
      "  warnings.warn(\n",
      "C:\\Users\\Niki\\AppData\\Local\\Temp\\ipykernel_11476\\3757604738.py:17: FutureWarning: The frame.append method is deprecated and will be removed from pandas in a future version. Use pandas.concat instead.\n",
      "  scores_data = scores_data.append({'max_depth': max_depth, 'train_score': train_score, \"test_score\": test_score,\n"
     ]
    },
    {
     "data": {
      "text/plain": "<AxesSubplot:xlabel='max_depth', ylabel='score'>"
     },
     "execution_count": 651,
     "metadata": {},
     "output_type": "execute_result"
    },
    {
     "data": {
      "text/plain": "<Figure size 432x288 with 1 Axes>",
      "image/png": "[encoded data removed]"
     },
     "metadata": {
      "needs_background": "light"
     },
     "output_type": "display_data"
    }
   ],
   "source": [
    "# Опять создаём таблицу, что бы найти оптимальную глубину дерева\n",
    "scores_data = pd.DataFrame({'max_depth': [], 'train_score': [], 'test_score': [], \"mean_cross_val_score\": []})\n",
    "\n",
    "# Разбиваем данные для тренировки и проверки модели\n",
    "X_titanic_train_deck, X_titanic_test_deck, y_titanic_train_deck, y_titanic_test_deck = train_test_split(X_titanic_deck, y_titanic_deck, test_size=0.3, random_state=10)\n",
    "\n",
    "for max_depth in range(1, 16):\n",
    "    titanic_tree_deck = tree.DecisionTreeClassifier(criterion=\"entropy\", max_depth=max_depth) # Создаём\n",
    "\n",
    "    titanic_tree_deck.fit(X_titanic_train_deck, y_titanic_train_deck)  # Тренируем\n",
    "    mean_cross_val_score = cross_val_score(titanic_tree_deck, X_titanic_train_deck, y_titanic_train_deck, cv=5).mean()  # Ещё один крутой метод тестирования\n",
    "\n",
    "    train_score = titanic_tree_deck.score(X_titanic_train_deck, y_titanic_train_deck) # Тестируем\n",
    "\n",
    "    test_score = titanic_tree_deck.score(X_titanic_test_deck, y_titanic_test_deck)  # Результат угадывания возраста с идеальной точностью\n",
    "\n",
    "    scores_data = scores_data.append({'max_depth': max_depth, 'train_score': train_score, \"test_score\": test_score,\n",
    "                                      \"mean_cross_val_score\": mean_cross_val_score}, ignore_index=True)\n",
    "\n",
    "# Преобразуем данные для красивой таблички\n",
    "scores_data_long = pd.melt(scores_data, id_vars=['max_depth'], value_vars=['train_score', 'test_score', 'mean_cross_val_score'], var_name=\"set_type\", value_name=\"score\")\n",
    "sns.lineplot(x=\"max_depth\", y=\"score\", hue=\"set_type\", data=scores_data_long) # Рисуем красивую табличку"
   ],
   "metadata": {
    "collapsed": false,
    "pycharm": {
     "name": "#%%\n"
    }
   }
  },
  {
   "cell_type": "code",
   "execution_count": 652,
   "outputs": [],
   "source": [
    "titanic_tree_deck = tree.DecisionTreeClassifier(criterion=\"entropy\", max_depth=4)  # Создаём модель с максимальной эффективностью\n",
    "\n",
    "titanic_tree_deck.fit(X_titanic_deck, y_titanic_deck)  # Скармливаем весь доступный датасет\n",
    "\n",
    "titanic_for_test_deck[\"deck\"] = list(titanic_tree_deck.predict(titanic_for_test_deck))\n",
    "\n",
    "titanic_for_test_deck.deck = titanic_for_test_deck.deck.replace([0, 1, 2, 3, 4, 5, 6], [\"A\", \"B\", \"C\", \"D\", \"E\", \"F\", \"G\"])  # Меняем название палуб с чисел на буквы\n",
    "\n",
    "titanic_2 = titanic.copy()  # Копируем датасет оригинальный для мёрджа\n",
    "\n",
    "# Всю эту лабуду можно сделать и проще, но я не нашёл как\n",
    "titanic_2 = titanic_2.merge(titanic_for_test_deck[[\"passenger_id\", \"deck\"]], on=\"passenger_id\", how=\"left\")\n",
    "titanic.deck.where(~(titanic.deck.isnull()), other=titanic_2.deck_y, inplace=True)\n",
    "\n",
    "# titanic.loc[titanic.pclass == 3].groupby(\"deck\").agg(\"deck\").count()\n",
    "# titanic.loc[(titanic.pclass == 2) & (titanic.deck == \"G\")]"
   ],
   "metadata": {
    "collapsed": false,
    "pycharm": {
     "name": "#%%\n"
    }
   }
  },
  {
   "cell_type": "code",
   "execution_count": 677,
   "outputs": [
    {
     "data": {
      "text/plain": "   survived  pclass     sex   age  sibsp  parch     fare embarked  class  \\\n0         0       3    male  22.0      1      0   7.2500        S  Third   \n1         1       1  female  38.0      1      0  71.2833        C  First   \n2         1       3  female  26.0      0      0   7.9250        S  Third   \n3         1       1  female  35.0      1      0  53.1000        S  First   \n4         0       3    male  35.0      0      0   8.0500        S  Third   \n\n     who  adult_male deck  embark_town alive  alone  passenger_id  \n0    man        True    G  Southampton    no  False             0  \n1  woman       False    C    Cherbourg   yes  False             1  \n2  woman       False    F  Southampton   yes   True             2  \n3  woman       False    C  Southampton   yes  False             3  \n4    man        True    E  Southampton    no   True             4  ",
      "text/html": "<div>\n<style scoped>\n    .dataframe tbody tr th:only-of-type {\n        vertical-align: middle;\n    }\n\n    .dataframe tbody tr th {\n        vertical-align: top;\n    }\n\n    .dataframe thead th {\n        text-align: right;\n    }\n</style>\n<table border=\"1\" class=\"dataframe\">\n  <thead>\n    <tr style=\"text-align: right;\">\n      <th></th>\n      <th>survived</th>\n      <th>pclass</th>\n      <th>sex</th>\n      <th>age</th>\n      <th>sibsp</th>\n      <th>parch</th>\n      <th>fare</th>\n      <th>embarked</th>\n      <th>class</th>\n      <th>who</th>\n      <th>adult_male</th>\n      <th>deck</th>\n      <th>embark_town</th>\n      <th>alive</th>\n      <th>alone</th>\n      <th>passenger_id</th>\n    </tr>\n  </thead>\n  <tbody>\n    <tr>\n      <th>0</th>\n      <td>0</td>\n      <td>3</td>\n      <td>male</td>\n      <td>22.0</td>\n      <td>1</td>\n      <td>0</td>\n      <td>7.2500</td>\n      <td>S</td>\n      <td>Third</td>\n      <td>man</td>\n      <td>True</td>\n      <td>G</td>\n      <td>Southampton</td>\n      <td>no</td>\n      <td>False</td>\n      <td>0</td>\n    </tr>\n    <tr>\n      <th>1</th>\n      <td>1</td>\n      <td>1</td>\n      <td>female</td>\n      <td>38.0</td>\n      <td>1</td>\n      <td>0</td>\n      <td>71.2833</td>\n      <td>C</td>\n      <td>First</td>\n      <td>woman</td>\n      <td>False</td>\n      <td>C</td>\n      <td>Cherbourg</td>\n      <td>yes</td>\n      <td>False</td>\n      <td>1</td>\n    </tr>\n    <tr>\n      <th>2</th>\n      <td>1</td>\n      <td>3</td>\n      <td>female</td>\n      <td>26.0</td>\n      <td>0</td>\n      <td>0</td>\n      <td>7.9250</td>\n      <td>S</td>\n      <td>Third</td>\n      <td>woman</td>\n      <td>False</td>\n      <td>F</td>\n      <td>Southampton</td>\n      <td>yes</td>\n      <td>True</td>\n      <td>2</td>\n    </tr>\n    <tr>\n      <th>3</th>\n      <td>1</td>\n      <td>1</td>\n      <td>female</td>\n      <td>35.0</td>\n      <td>1</td>\n      <td>0</td>\n      <td>53.1000</td>\n      <td>S</td>\n      <td>First</td>\n      <td>woman</td>\n      <td>False</td>\n      <td>C</td>\n      <td>Southampton</td>\n      <td>yes</td>\n      <td>False</td>\n      <td>3</td>\n    </tr>\n    <tr>\n      <th>4</th>\n      <td>0</td>\n      <td>3</td>\n      <td>male</td>\n      <td>35.0</td>\n      <td>0</td>\n      <td>0</td>\n      <td>8.0500</td>\n      <td>S</td>\n      <td>Third</td>\n      <td>man</td>\n      <td>True</td>\n      <td>E</td>\n      <td>Southampton</td>\n      <td>no</td>\n      <td>True</td>\n      <td>4</td>\n    </tr>\n  </tbody>\n</table>\n</div>"
     },
     "execution_count": 677,
     "metadata": {},
     "output_type": "execute_result"
    }
   ],
   "source": [
    "titanic.head()"
   ],
   "metadata": {
    "collapsed": false,
    "pycharm": {
     "name": "#%%\n"
    }
   }
  },
  {
   "cell_type": "code",
   "execution_count": 654,
   "outputs": [
    {
     "name": "stdout",
     "output_type": "stream",
     "text": [
      "survived        0\n",
      "pclass          0\n",
      "sex             0\n",
      "age             0\n",
      "sibsp           0\n",
      "parch           0\n",
      "fare            0\n",
      "embarked        2\n",
      "class           0\n",
      "who             0\n",
      "adult_male      0\n",
      "deck            0\n",
      "embark_town     2\n",
      "alive           0\n",
      "alone           0\n",
      "passenger_id    0\n",
      "dtype: int64 \n",
      "\n",
      " (891, 16)\n"
     ]
    }
   ],
   "source": [
    "print(titanic.isnull().sum(), \"\\n\\n\", titanic.shape)  # Проверяем, что все данные на месте (ну почти)"
   ],
   "metadata": {
    "collapsed": false,
    "pycharm": {
     "name": "#%%\n"
    }
   }
  },
  {
   "cell_type": "code",
   "execution_count": 655,
   "outputs": [],
   "source": [
    "# Ура, обучаем третью нейронку, что бы заполнить два \"случайно пропавших\" города отправления, да, яндекс?\n",
    "# Снова мы здесь, пояснять шаги уже не буду\n",
    "\n",
    "titanic_for_ml_embarked = titanic.copy()\n",
    "\n",
    "titanic_for_ml_embarked = titanic_for_ml_embarked.drop([\"class\", \"embark_town\", \"alive\", \"sibsp\", \"adult_male\", \"parch\", \"fare\", \"age\", \"who\"], axis=1)\n",
    "\n",
    "titanic_for_ml_embarked.sex = titanic_for_ml_embarked.sex.replace([\"male\", \"female\"], [0, 1])\n",
    "titanic_for_ml_embarked.deck = titanic_for_ml_embarked.deck.replace([\"A\", \"B\", \"C\", \"D\", \"E\", \"F\", \"G\"], [0, 1, 2, 3, 4, 5, 6])\n",
    "titanic_for_ml_embarked.deck = titanic_for_ml_embarked.deck.apply(int)\n",
    "\n",
    "titanic_for_test_embarked = titanic_for_ml_embarked.loc[titanic_for_ml_embarked.embarked.isnull()]\n",
    "\n",
    "titanic_for_test_embarked = titanic_for_test_embarked.drop([\"embarked\"], axis=1)\n",
    "\n",
    "titanic_for_ml_embarked = titanic_for_ml_embarked.dropna()\n",
    "\n",
    "titanic_for_ml_embarked.embarked = titanic_for_ml_embarked.embarked.replace([\"S\", \"C\", \"Q\"], [0, 1, 2])\n",
    "titanic_for_ml_embarked.embarked = titanic_for_ml_embarked.embarked.apply(int)\n",
    "\n",
    "# Создаём данные для тренировки нейронной сети\n",
    "X_titanic_embarked = titanic_for_ml_embarked.drop([\"embarked\"], axis=1)\n",
    "y_titanic_embarked = titanic_for_ml_embarked.embarked"
   ],
   "metadata": {
    "collapsed": false,
    "pycharm": {
     "name": "#%%\n"
    }
   }
  },
  {
   "cell_type": "code",
   "execution_count": 656,
   "outputs": [
    {
     "name": "stderr",
     "output_type": "stream",
     "text": [
      "C:\\Users\\Niki\\AppData\\Local\\Temp\\ipykernel_11476\\625984101.py:16: FutureWarning: The frame.append method is deprecated and will be removed from pandas in a future version. Use pandas.concat instead.\n",
      "  scores_data = scores_data.append({'max_depth': max_depth, 'train_score': train_score, \"test_score\": test_score,\n",
      "C:\\Users\\Niki\\AppData\\Local\\Temp\\ipykernel_11476\\625984101.py:16: FutureWarning: The frame.append method is deprecated and will be removed from pandas in a future version. Use pandas.concat instead.\n",
      "  scores_data = scores_data.append({'max_depth': max_depth, 'train_score': train_score, \"test_score\": test_score,\n",
      "C:\\Users\\Niki\\AppData\\Local\\Temp\\ipykernel_11476\\625984101.py:16: FutureWarning: The frame.append method is deprecated and will be removed from pandas in a future version. Use pandas.concat instead.\n",
      "  scores_data = scores_data.append({'max_depth': max_depth, 'train_score': train_score, \"test_score\": test_score,\n",
      "C:\\Users\\Niki\\AppData\\Local\\Temp\\ipykernel_11476\\625984101.py:16: FutureWarning: The frame.append method is deprecated and will be removed from pandas in a future version. Use pandas.concat instead.\n",
      "  scores_data = scores_data.append({'max_depth': max_depth, 'train_score': train_score, \"test_score\": test_score,\n",
      "C:\\Users\\Niki\\AppData\\Local\\Temp\\ipykernel_11476\\625984101.py:16: FutureWarning: The frame.append method is deprecated and will be removed from pandas in a future version. Use pandas.concat instead.\n",
      "  scores_data = scores_data.append({'max_depth': max_depth, 'train_score': train_score, \"test_score\": test_score,\n",
      "C:\\Users\\Niki\\AppData\\Local\\Temp\\ipykernel_11476\\625984101.py:16: FutureWarning: The frame.append method is deprecated and will be removed from pandas in a future version. Use pandas.concat instead.\n",
      "  scores_data = scores_data.append({'max_depth': max_depth, 'train_score': train_score, \"test_score\": test_score,\n",
      "C:\\Users\\Niki\\AppData\\Local\\Temp\\ipykernel_11476\\625984101.py:16: FutureWarning: The frame.append method is deprecated and will be removed from pandas in a future version. Use pandas.concat instead.\n",
      "  scores_data = scores_data.append({'max_depth': max_depth, 'train_score': train_score, \"test_score\": test_score,\n",
      "C:\\Users\\Niki\\AppData\\Local\\Temp\\ipykernel_11476\\625984101.py:16: FutureWarning: The frame.append method is deprecated and will be removed from pandas in a future version. Use pandas.concat instead.\n",
      "  scores_data = scores_data.append({'max_depth': max_depth, 'train_score': train_score, \"test_score\": test_score,\n",
      "C:\\Users\\Niki\\AppData\\Local\\Temp\\ipykernel_11476\\625984101.py:16: FutureWarning: The frame.append method is deprecated and will be removed from pandas in a future version. Use pandas.concat instead.\n",
      "  scores_data = scores_data.append({'max_depth': max_depth, 'train_score': train_score, \"test_score\": test_score,\n",
      "C:\\Users\\Niki\\AppData\\Local\\Temp\\ipykernel_11476\\625984101.py:16: FutureWarning: The frame.append method is deprecated and will be removed from pandas in a future version. Use pandas.concat instead.\n",
      "  scores_data = scores_data.append({'max_depth': max_depth, 'train_score': train_score, \"test_score\": test_score,\n",
      "C:\\Users\\Niki\\AppData\\Local\\Temp\\ipykernel_11476\\625984101.py:16: FutureWarning: The frame.append method is deprecated and will be removed from pandas in a future version. Use pandas.concat instead.\n",
      "  scores_data = scores_data.append({'max_depth': max_depth, 'train_score': train_score, \"test_score\": test_score,\n",
      "C:\\Users\\Niki\\AppData\\Local\\Temp\\ipykernel_11476\\625984101.py:16: FutureWarning: The frame.append method is deprecated and will be removed from pandas in a future version. Use pandas.concat instead.\n",
      "  scores_data = scores_data.append({'max_depth': max_depth, 'train_score': train_score, \"test_score\": test_score,\n",
      "C:\\Users\\Niki\\AppData\\Local\\Temp\\ipykernel_11476\\625984101.py:16: FutureWarning: The frame.append method is deprecated and will be removed from pandas in a future version. Use pandas.concat instead.\n",
      "  scores_data = scores_data.append({'max_depth': max_depth, 'train_score': train_score, \"test_score\": test_score,\n",
      "C:\\Users\\Niki\\AppData\\Local\\Temp\\ipykernel_11476\\625984101.py:16: FutureWarning: The frame.append method is deprecated and will be removed from pandas in a future version. Use pandas.concat instead.\n",
      "  scores_data = scores_data.append({'max_depth': max_depth, 'train_score': train_score, \"test_score\": test_score,\n",
      "C:\\Users\\Niki\\AppData\\Local\\Temp\\ipykernel_11476\\625984101.py:16: FutureWarning: The frame.append method is deprecated and will be removed from pandas in a future version. Use pandas.concat instead.\n",
      "  scores_data = scores_data.append({'max_depth': max_depth, 'train_score': train_score, \"test_score\": test_score,\n"
     ]
    },
    {
     "data": {
      "text/plain": "<AxesSubplot:xlabel='max_depth', ylabel='score'>"
     },
     "execution_count": 656,
     "metadata": {},
     "output_type": "execute_result"
    },
    {
     "data": {
      "text/plain": "<Figure size 432x288 with 1 Axes>",
      "image/png": "[encoded data removed]"
     },
     "metadata": {
      "needs_background": "light"
     },
     "output_type": "display_data"
    }
   ],
   "source": [
    "scores_data = pd.DataFrame({'max_depth': [], 'train_score': [], 'test_score': [], \"mean_cross_val_score\": []})\n",
    "\n",
    "X_titanic_train_embarked, X_titanic_test_embarked, y_titanic_train_embarked, y_titanic_test_embarked = train_test_split(X_titanic_embarked, y_titanic_embarked, test_size=0.3, random_state=10)\n",
    "\n",
    "for max_depth in range(1, 16):\n",
    "    titanic_tree_embarked = tree.DecisionTreeClassifier(criterion=\"entropy\", max_depth=max_depth) # Создаём\n",
    "\n",
    "    titanic_tree_embarked.fit(X_titanic_train_embarked, y_titanic_train_embarked)  # Тренируем\n",
    "\n",
    "    mean_cross_val_score = cross_val_score(titanic_tree_embarked, X_titanic_train_embarked, y_titanic_train_embarked, cv=5).mean()\n",
    "\n",
    "    train_score = titanic_tree_embarked.score(X_titanic_train_embarked, y_titanic_train_embarked) # Тестируем\n",
    "\n",
    "    test_score = titanic_tree_embarked.score(X_titanic_test_embarked, y_titanic_test_embarked)\n",
    "\n",
    "    scores_data = scores_data.append({'max_depth': max_depth, 'train_score': train_score, \"test_score\": test_score,\n",
    "                                      \"mean_cross_val_score\": mean_cross_val_score}, ignore_index=True)\n",
    "\n",
    "# Преобразуем данные для красивой таблички\n",
    "scores_data_long = pd.melt(scores_data, id_vars=['max_depth'], value_vars=['train_score', 'test_score', 'mean_cross_val_score'], var_name=\"set_type\", value_name=\"score\")\n",
    "sns.lineplot(x=\"max_depth\", y=\"score\", hue=\"set_type\", data=scores_data_long) # Рисуем красивую табличку"
   ],
   "metadata": {
    "collapsed": false,
    "pycharm": {
     "name": "#%%\n"
    }
   }
  },
  {
   "cell_type": "code",
   "execution_count": 657,
   "outputs": [],
   "source": [
    "titanic_tree_embarked = tree.DecisionTreeClassifier(criterion=\"entropy\", max_depth=3)\n",
    "\n",
    "titanic_tree_embarked.fit(X_titanic_embarked, y_titanic_embarked)\n",
    "\n",
    "titanic_for_test_embarked[\"embarked\"] = list(titanic_tree_embarked.predict(titanic_for_test_embarked))\n",
    "\n",
    "titanic_for_test_embarked.embarked = titanic_for_test_embarked.embarked.replace([0, 1, 2], [\"S\", \"C\", \"Q\"])\n",
    "\n",
    "titanic_2 = titanic.copy()\n",
    "\n",
    "titanic_2 = titanic_2.merge(titanic_for_test_embarked[[\"passenger_id\", \"embarked\"]], on=\"passenger_id\", how=\"left\")\n",
    "\n",
    "titanic.embarked.where(~(titanic.embarked.isnull()), other=titanic_2.embarked_y, inplace=True)\n",
    "\n",
    "titanic.embark_town.where(~(titanic.embark_town.isnull()), other=titanic.embarked, inplace=True)\n",
    "titanic.embark_town = titanic.embark_town.replace([\"S\", \"C\", \"Q\"], ['Southampton', 'Cherbourg', 'Queenstown'])"
   ],
   "metadata": {
    "collapsed": false,
    "pycharm": {
     "name": "#%%\n"
    }
   }
  },
  {
   "cell_type": "code",
   "execution_count": 658,
   "outputs": [
    {
     "name": "stdout",
     "output_type": "stream",
     "text": [
      "survived        0\n",
      "pclass          0\n",
      "sex             0\n",
      "age             0\n",
      "sibsp           0\n",
      "parch           0\n",
      "fare            0\n",
      "embarked        0\n",
      "class           0\n",
      "who             0\n",
      "adult_male      0\n",
      "deck            0\n",
      "embark_town     0\n",
      "alive           0\n",
      "alone           0\n",
      "passenger_id    0\n",
      "dtype: int64 \n",
      "\n",
      " (891, 16)\n"
     ]
    }
   ],
   "source": [
    "print(titanic.isnull().sum(), \"\\n\\n\", titanic.shape)  # ПОБЕДА!!!"
   ],
   "metadata": {
    "collapsed": false,
    "pycharm": {
     "name": "#%%\n"
    }
   }
  },
  {
   "cell_type": "code",
   "execution_count": 659,
   "outputs": [
    {
     "data": {
      "text/plain": "sex\nfemale    314\nmale      577\nName: sex, dtype: int64"
     },
     "execution_count": 659,
     "metadata": {},
     "output_type": "execute_result"
    }
   ],
   "source": [
    "# Находим количество мужчин и женщин\n",
    "titanic.groupby(\"sex\").agg(\"sex\").count()"
   ],
   "metadata": {
    "collapsed": false,
    "pycharm": {
     "name": "#%%\n"
    }
   }
  },
  {
   "cell_type": "code",
   "execution_count": 683,
   "outputs": [
    {
     "data": {
      "text/plain": "(0, 0)"
     },
     "execution_count": 683,
     "metadata": {},
     "output_type": "execute_result"
    }
   ],
   "source": [
    "# Проверяем, можно ли доверять столбцу adult_male\n",
    "titanic.loc[(titanic.adult_male == True) & (titanic.sex != \"male\")].passenger_id.count(), titanic.loc[(titanic.adult_male == True) & (titanic.age < 16)].passenger_id.count()"
   ],
   "metadata": {
    "collapsed": false,
    "pycharm": {
     "name": "#%%\n"
    }
   }
  },
  {
   "cell_type": "code",
   "execution_count": 661,
   "outputs": [
    {
     "data": {
      "text/plain": "60.26936026936027"
     },
     "execution_count": 661,
     "metadata": {},
     "output_type": "execute_result"
    }
   ],
   "source": [
    "# Процент взрослых мужчин на борту\n",
    "titanic.loc[titanic.adult_male == True].passenger_id.count() / titanic.shape[0] * 100"
   ],
   "metadata": {
    "collapsed": false,
    "pycharm": {
     "name": "#%%\n"
    }
   }
  },
  {
   "cell_type": "code",
   "execution_count": 662,
   "outputs": [
    {
     "data": {
      "text/plain": "class\nFirst     246\nSecond    240\nThird     405\nName: class, dtype: int64"
     },
     "execution_count": 662,
     "metadata": {},
     "output_type": "execute_result"
    }
   ],
   "source": [
    "# Количество людей в разных классах\n",
    "titanic.groupby(\"class\").agg(\"class\").count()"
   ],
   "metadata": {
    "collapsed": false,
    "pycharm": {
     "name": "#%%\n"
    }
   }
  },
  {
   "cell_type": "code",
   "execution_count": 684,
   "outputs": [],
   "source": [
    "# В этой таблице только выжившие\n",
    "titanic_alive = titanic.loc[titanic.survived == 1]"
   ],
   "metadata": {
    "collapsed": false,
    "pycharm": {
     "name": "#%%\n"
    }
   }
  },
  {
   "cell_type": "code",
   "execution_count": 664,
   "outputs": [
    {
     "name": "stdout",
     "output_type": "stream",
     "text": [
      "Старый процент живых мужчин:\t\t 60.26936026936027 %\n",
      "Новый процент живых мужчин:\t\t\t 25.730994152046783 %\n",
      "Изменение процента живых мужчин:\t -34.53836611731349 %\n"
     ]
    }
   ],
   "source": [
    "# Изменение процент взрослых мужчин\n",
    "print(\"Старый процент живых мужчин:\\t\\t\", titanic.loc[titanic.adult_male == True].passenger_id.count() / titanic.shape[0] * 100, \"%\")\n",
    "print(\"Новый процент живых мужчин:\\t\\t\\t\", titanic_alive.loc[titanic_alive.adult_male == True].passenger_id.count() / titanic_alive.shape[0] * 100, \"%\")\n",
    "print(\"Изменение процента живых мужчин:\\t\", (titanic_alive.loc[titanic_alive.adult_male == True].passenger_id.count() / titanic_alive.shape[0] - titanic.loc[titanic.adult_male == True].passenger_id.count() / titanic.shape[0]) * 100, \"%\")"
   ],
   "metadata": {
    "collapsed": false,
    "pycharm": {
     "name": "#%%\n"
    }
   }
  },
  {
   "cell_type": "code",
   "execution_count": 665,
   "outputs": [
    {
     "name": "stdout",
     "output_type": "stream",
     "text": [
      "Шанс выжить, если ты женщина: 0.7420382165605095\n",
      "Шанс выжить, если ты мужчина: 0.18890814558058924\n"
     ]
    }
   ],
   "source": [
    "bef, aft = list(titanic.groupby(\"sex\").agg(\"sex\").count()), list(titanic_alive.groupby(\"sex\").agg(\"sex\").count())\n",
    "print(\"Шанс выжить, если ты женщина:\", aft[0] / bef[0])\n",
    "print(\"Шанс выжить, если ты мужчина:\", aft[1] / bef[1])"
   ],
   "metadata": {
    "collapsed": false,
    "pycharm": {
     "name": "#%%\n"
    }
   }
  },
  {
   "cell_type": "code",
   "execution_count": 666,
   "outputs": [
    {
     "name": "stdout",
     "output_type": "stream",
     "text": [
      "Шанс выжить, если плыл в первом классе: 0.5894308943089431\n",
      "Шанс выжить, если был во втором классе: 0.4\n",
      "Шанс выжить, если был в третьем классе: 0.24938271604938272\n"
     ]
    }
   ],
   "source": [
    "bef, aft = list(titanic.groupby(\"class\").agg(\"class\").count()), list(titanic_alive.groupby(\"class\").agg(\"class\").count())\n",
    "print(\"Шанс выжить, если плыл в первом классе:\", aft[0] / bef[0])\n",
    "print(\"Шанс выжить, если был во втором классе:\", aft[1] / bef[1])\n",
    "print(\"Шанс выжить, если был в третьем классе:\", aft[2] / bef[2])"
   ],
   "metadata": {
    "collapsed": false,
    "pycharm": {
     "name": "#%%\n"
    }
   }
  },
  {
   "cell_type": "code",
   "execution_count": 667,
   "outputs": [
    {
     "name": "stdout",
     "output_type": "stream",
     "text": [
      "Шанс выжить, если плыл в компании: 0.5056497175141242\n",
      "Шанс выжить, если плыл в одиночку: 0.30353817504655495\n"
     ]
    }
   ],
   "source": [
    "bef, aft = list(titanic.groupby(\"alone\").agg(\"alone\").count()), list(titanic_alive.groupby(\"alone\").agg(\"alone\").count())\n",
    "print(\"Шанс выжить, если плыл в компании:\", aft[0] / bef[0])\n",
    "print(\"Шанс выжить, если плыл в одиночку:\", aft[1] / bef[1])"
   ],
   "metadata": {
    "collapsed": false,
    "pycharm": {
     "name": "#%%\n"
    }
   }
  },
  {
   "cell_type": "code",
   "execution_count": 668,
   "outputs": [
    {
     "name": "stdout",
     "output_type": "stream",
     "text": [
      "Средний возраст до крушения:\t 29.159562289562288\n",
      "Средний возраст после крушения:\t 28.22125730994152\n"
     ]
    }
   ],
   "source": [
    "bef, aft = titanic.age.mean(), titanic_alive.age.mean()\n",
    "print(\"Средний возраст до крушения:\\t\", bef)\n",
    "print(\"Средний возраст после крушения:\\t\", aft)  # В принципе средний возраст плывшвих не отличается от среднего возраста выживших"
   ],
   "metadata": {
    "collapsed": false,
    "pycharm": {
     "name": "#%%\n"
    }
   }
  },
  {
   "cell_type": "code",
   "execution_count": 669,
   "outputs": [
    {
     "data": {
      "text/plain": "        sex   age     fare  class    who  embark_town alive  alone  \\\n777  female   5.0  12.4750  Third  child  Southampton   yes   True   \n731    male  11.0  18.7875  Third  child    Cherbourg    no   True   \n780  female  13.0   7.2292  Third  child    Cherbourg   yes   True   \n14   female  14.0   7.8542  Third  child  Southampton    no   True   \n22   female  15.0   8.0292  Third  child   Queenstown   yes   True   \n875  female  15.0   7.2250  Third  child    Cherbourg   yes   True   \n\n     passenger_id  \n777           777  \n731           731  \n780           780  \n14             14  \n22             22  \n875           875  ",
      "text/html": "<div>\n<style scoped>\n    .dataframe tbody tr th:only-of-type {\n        vertical-align: middle;\n    }\n\n    .dataframe tbody tr th {\n        vertical-align: top;\n    }\n\n    .dataframe thead th {\n        text-align: right;\n    }\n</style>\n<table border=\"1\" class=\"dataframe\">\n  <thead>\n    <tr style=\"text-align: right;\">\n      <th></th>\n      <th>sex</th>\n      <th>age</th>\n      <th>fare</th>\n      <th>class</th>\n      <th>who</th>\n      <th>embark_town</th>\n      <th>alive</th>\n      <th>alone</th>\n      <th>passenger_id</th>\n    </tr>\n  </thead>\n  <tbody>\n    <tr>\n      <th>777</th>\n      <td>female</td>\n      <td>5.0</td>\n      <td>12.4750</td>\n      <td>Third</td>\n      <td>child</td>\n      <td>Southampton</td>\n      <td>yes</td>\n      <td>True</td>\n      <td>777</td>\n    </tr>\n    <tr>\n      <th>731</th>\n      <td>male</td>\n      <td>11.0</td>\n      <td>18.7875</td>\n      <td>Third</td>\n      <td>child</td>\n      <td>Cherbourg</td>\n      <td>no</td>\n      <td>True</td>\n      <td>731</td>\n    </tr>\n    <tr>\n      <th>780</th>\n      <td>female</td>\n      <td>13.0</td>\n      <td>7.2292</td>\n      <td>Third</td>\n      <td>child</td>\n      <td>Cherbourg</td>\n      <td>yes</td>\n      <td>True</td>\n      <td>780</td>\n    </tr>\n    <tr>\n      <th>14</th>\n      <td>female</td>\n      <td>14.0</td>\n      <td>7.8542</td>\n      <td>Third</td>\n      <td>child</td>\n      <td>Southampton</td>\n      <td>no</td>\n      <td>True</td>\n      <td>14</td>\n    </tr>\n    <tr>\n      <th>22</th>\n      <td>female</td>\n      <td>15.0</td>\n      <td>8.0292</td>\n      <td>Third</td>\n      <td>child</td>\n      <td>Queenstown</td>\n      <td>yes</td>\n      <td>True</td>\n      <td>22</td>\n    </tr>\n    <tr>\n      <th>875</th>\n      <td>female</td>\n      <td>15.0</td>\n      <td>7.2250</td>\n      <td>Third</td>\n      <td>child</td>\n      <td>Cherbourg</td>\n      <td>yes</td>\n      <td>True</td>\n      <td>875</td>\n    </tr>\n  </tbody>\n</table>\n</div>"
     },
     "execution_count": 669,
     "metadata": {},
     "output_type": "execute_result"
    }
   ],
   "source": [
    "# Ниже представлены интересные находки\n",
    "# Странные путешественники (Пятилетняя девочка на 777 индеске в самовольном приключении звучит не очень убедительно) (Другие тоже не ахти убедительно смотрятся, так как совершеннолетие было с 16 лет)\n",
    "titanic.loc[titanic.alone == True].sort_values(\"age\").drop([\"survived\", \"pclass\", \"sibsp\", \"parch\", \"embarked\", \"adult_male\", \"deck\"], axis=1).head(6)"
   ],
   "metadata": {
    "collapsed": false,
    "pycharm": {
     "name": "#%%\n"
    }
   }
  },
  {
   "cell_type": "code",
   "execution_count": 670,
   "outputs": [
    {
     "data": {
      "text/plain": "      sex   age  fare  class  who  embark_town alive  alone  passenger_id\n872  male  33.0   5.0  First  man  Southampton    no   True           872",
      "text/html": "<div>\n<style scoped>\n    .dataframe tbody tr th:only-of-type {\n        vertical-align: middle;\n    }\n\n    .dataframe tbody tr th {\n        vertical-align: top;\n    }\n\n    .dataframe thead th {\n        text-align: right;\n    }\n</style>\n<table border=\"1\" class=\"dataframe\">\n  <thead>\n    <tr style=\"text-align: right;\">\n      <th></th>\n      <th>sex</th>\n      <th>age</th>\n      <th>fare</th>\n      <th>class</th>\n      <th>who</th>\n      <th>embark_town</th>\n      <th>alive</th>\n      <th>alone</th>\n      <th>passenger_id</th>\n    </tr>\n  </thead>\n  <tbody>\n    <tr>\n      <th>872</th>\n      <td>male</td>\n      <td>33.0</td>\n      <td>5.0</td>\n      <td>First</td>\n      <td>man</td>\n      <td>Southampton</td>\n      <td>no</td>\n      <td>True</td>\n      <td>872</td>\n    </tr>\n  </tbody>\n</table>\n</div>"
     },
     "execution_count": 670,
     "metadata": {},
     "output_type": "execute_result"
    }
   ],
   "source": [
    "# Расплатился за проезд в первом классе пяти фунтами и натурой))\n",
    "titanic[titanic.pclass == 1].sort_values(\"fare\").drop([\"survived\", \"pclass\", \"sibsp\", \"parch\", \"embarked\", \"adult_male\", \"deck\"], axis=1).head(1)"
   ],
   "metadata": {
    "collapsed": false,
    "pycharm": {
     "name": "#%%\n"
    }
   }
  },
  {
   "cell_type": "code",
   "execution_count": 680,
   "outputs": [
    {
     "data": {
      "text/plain": "    survived  pclass     sex   age  sibsp  parch     fare embarked   class  \\\n0          0       3    male  22.0      1      0   7.2500        S   Third   \n1          1       1  female  38.0      1      0  71.2833        C   First   \n2          1       3  female  26.0      0      0   7.9250        S   Third   \n3          1       1  female  35.0      1      0  53.1000        S   First   \n4          0       3    male  35.0      0      0   8.0500        S   Third   \n5          0       3    male  21.0      0      0   8.4583        Q   Third   \n6          0       1    male  54.0      0      0  51.8625        S   First   \n7          0       2    male   2.0      3      1  21.0750        S  Second   \n8          1       3  female  27.0      0      2  11.1333        S   Third   \n9          1       2  female  14.0      1      0  30.0708        C  Second   \n10         1       3  female   4.0      1      1  16.7000        S   Third   \n11         1       1  female  58.0      0      0  26.5500        S   First   \n12         0       3    male  20.0      0      0   8.0500        S   Third   \n13         0       2    male  39.0      1      5  31.2750        S  Second   \n14         0       3  female  14.0      0      0   7.8542        S   Third   \n\n      who  adult_male deck  embark_town alive  alone  passenger_id  \n0     man        True    G  Southampton    no  False             0  \n1   woman       False    C    Cherbourg   yes  False             1  \n2   woman       False    F  Southampton   yes   True             2  \n3   woman       False    C  Southampton   yes  False             3  \n4     man        True    E  Southampton    no   True             4  \n5     man        True    E   Queenstown    no   True             5  \n6     man        True    E  Southampton    no   True             6  \n7   child       False    F  Southampton    no  False             7  \n8   woman       False    G  Southampton   yes  False             8  \n9   child       False    F    Cherbourg   yes  False             9  \n10  child       False    G  Southampton   yes  False            10  \n11  woman       False    C  Southampton   yes   True            11  \n12    man        True    E  Southampton    no   True            12  \n13    man        True    F  Southampton    no  False            13  \n14  child       False    F  Southampton    no   True            14  ",
      "text/html": "<div>\n<style scoped>\n    .dataframe tbody tr th:only-of-type {\n        vertical-align: middle;\n    }\n\n    .dataframe tbody tr th {\n        vertical-align: top;\n    }\n\n    .dataframe thead th {\n        text-align: right;\n    }\n</style>\n<table border=\"1\" class=\"dataframe\">\n  <thead>\n    <tr style=\"text-align: right;\">\n      <th></th>\n      <th>survived</th>\n      <th>pclass</th>\n      <th>sex</th>\n      <th>age</th>\n      <th>sibsp</th>\n      <th>parch</th>\n      <th>fare</th>\n      <th>embarked</th>\n      <th>class</th>\n      <th>who</th>\n      <th>adult_male</th>\n      <th>deck</th>\n      <th>embark_town</th>\n      <th>alive</th>\n      <th>alone</th>\n      <th>passenger_id</th>\n    </tr>\n  </thead>\n  <tbody>\n    <tr>\n      <th>0</th>\n      <td>0</td>\n      <td>3</td>\n      <td>male</td>\n      <td>22.0</td>\n      <td>1</td>\n      <td>0</td>\n      <td>7.2500</td>\n      <td>S</td>\n      <td>Third</td>\n      <td>man</td>\n      <td>True</td>\n      <td>G</td>\n      <td>Southampton</td>\n      <td>no</td>\n      <td>False</td>\n      <td>0</td>\n    </tr>\n    <tr>\n      <th>1</th>\n      <td>1</td>\n      <td>1</td>\n      <td>female</td>\n      <td>38.0</td>\n      <td>1</td>\n      <td>0</td>\n      <td>71.2833</td>\n      <td>C</td>\n      <td>First</td>\n      <td>woman</td>\n      <td>False</td>\n      <td>C</td>\n      <td>Cherbourg</td>\n      <td>yes</td>\n      <td>False</td>\n      <td>1</td>\n    </tr>\n    <tr>\n      <th>2</th>\n      <td>1</td>\n      <td>3</td>\n      <td>female</td>\n      <td>26.0</td>\n      <td>0</td>\n      <td>0</td>\n      <td>7.9250</td>\n      <td>S</td>\n      <td>Third</td>\n      <td>woman</td>\n      <td>False</td>\n      <td>F</td>\n      <td>Southampton</td>\n      <td>yes</td>\n      <td>True</td>\n      <td>2</td>\n    </tr>\n    <tr>\n      <th>3</th>\n      <td>1</td>\n      <td>1</td>\n      <td>female</td>\n      <td>35.0</td>\n      <td>1</td>\n      <td>0</td>\n      <td>53.1000</td>\n      <td>S</td>\n      <td>First</td>\n      <td>woman</td>\n      <td>False</td>\n      <td>C</td>\n      <td>Southampton</td>\n      <td>yes</td>\n      <td>False</td>\n      <td>3</td>\n    </tr>\n    <tr>\n      <th>4</th>\n      <td>0</td>\n      <td>3</td>\n      <td>male</td>\n      <td>35.0</td>\n      <td>0</td>\n      <td>0</td>\n      <td>8.0500</td>\n      <td>S</td>\n      <td>Third</td>\n      <td>man</td>\n      <td>True</td>\n      <td>E</td>\n      <td>Southampton</td>\n      <td>no</td>\n      <td>True</td>\n      <td>4</td>\n    </tr>\n    <tr>\n      <th>5</th>\n      <td>0</td>\n      <td>3</td>\n      <td>male</td>\n      <td>21.0</td>\n      <td>0</td>\n      <td>0</td>\n      <td>8.4583</td>\n      <td>Q</td>\n      <td>Third</td>\n      <td>man</td>\n      <td>True</td>\n      <td>E</td>\n      <td>Queenstown</td>\n      <td>no</td>\n      <td>True</td>\n      <td>5</td>\n    </tr>\n    <tr>\n      <th>6</th>\n      <td>0</td>\n      <td>1</td>\n      <td>male</td>\n      <td>54.0</td>\n      <td>0</td>\n      <td>0</td>\n      <td>51.8625</td>\n      <td>S</td>\n      <td>First</td>\n      <td>man</td>\n      <td>True</td>\n      <td>E</td>\n      <td>Southampton</td>\n      <td>no</td>\n      <td>True</td>\n      <td>6</td>\n    </tr>\n    <tr>\n      <th>7</th>\n      <td>0</td>\n      <td>2</td>\n      <td>male</td>\n      <td>2.0</td>\n      <td>3</td>\n      <td>1</td>\n      <td>21.0750</td>\n      <td>S</td>\n      <td>Second</td>\n      <td>child</td>\n      <td>False</td>\n      <td>F</td>\n      <td>Southampton</td>\n      <td>no</td>\n      <td>False</td>\n      <td>7</td>\n    </tr>\n    <tr>\n      <th>8</th>\n      <td>1</td>\n      <td>3</td>\n      <td>female</td>\n      <td>27.0</td>\n      <td>0</td>\n      <td>2</td>\n      <td>11.1333</td>\n      <td>S</td>\n      <td>Third</td>\n      <td>woman</td>\n      <td>False</td>\n      <td>G</td>\n      <td>Southampton</td>\n      <td>yes</td>\n      <td>False</td>\n      <td>8</td>\n    </tr>\n    <tr>\n      <th>9</th>\n      <td>1</td>\n      <td>2</td>\n      <td>female</td>\n      <td>14.0</td>\n      <td>1</td>\n      <td>0</td>\n      <td>30.0708</td>\n      <td>C</td>\n      <td>Second</td>\n      <td>child</td>\n      <td>False</td>\n      <td>F</td>\n      <td>Cherbourg</td>\n      <td>yes</td>\n      <td>False</td>\n      <td>9</td>\n    </tr>\n    <tr>\n      <th>10</th>\n      <td>1</td>\n      <td>3</td>\n      <td>female</td>\n      <td>4.0</td>\n      <td>1</td>\n      <td>1</td>\n      <td>16.7000</td>\n      <td>S</td>\n      <td>Third</td>\n      <td>child</td>\n      <td>False</td>\n      <td>G</td>\n      <td>Southampton</td>\n      <td>yes</td>\n      <td>False</td>\n      <td>10</td>\n    </tr>\n    <tr>\n      <th>11</th>\n      <td>1</td>\n      <td>1</td>\n      <td>female</td>\n      <td>58.0</td>\n      <td>0</td>\n      <td>0</td>\n      <td>26.5500</td>\n      <td>S</td>\n      <td>First</td>\n      <td>woman</td>\n      <td>False</td>\n      <td>C</td>\n      <td>Southampton</td>\n      <td>yes</td>\n      <td>True</td>\n      <td>11</td>\n    </tr>\n    <tr>\n      <th>12</th>\n      <td>0</td>\n      <td>3</td>\n      <td>male</td>\n      <td>20.0</td>\n      <td>0</td>\n      <td>0</td>\n      <td>8.0500</td>\n      <td>S</td>\n      <td>Third</td>\n      <td>man</td>\n      <td>True</td>\n      <td>E</td>\n      <td>Southampton</td>\n      <td>no</td>\n      <td>True</td>\n      <td>12</td>\n    </tr>\n    <tr>\n      <th>13</th>\n      <td>0</td>\n      <td>2</td>\n      <td>male</td>\n      <td>39.0</td>\n      <td>1</td>\n      <td>5</td>\n      <td>31.2750</td>\n      <td>S</td>\n      <td>Second</td>\n      <td>man</td>\n      <td>True</td>\n      <td>F</td>\n      <td>Southampton</td>\n      <td>no</td>\n      <td>False</td>\n      <td>13</td>\n    </tr>\n    <tr>\n      <th>14</th>\n      <td>0</td>\n      <td>3</td>\n      <td>female</td>\n      <td>14.0</td>\n      <td>0</td>\n      <td>0</td>\n      <td>7.8542</td>\n      <td>S</td>\n      <td>Third</td>\n      <td>child</td>\n      <td>False</td>\n      <td>F</td>\n      <td>Southampton</td>\n      <td>no</td>\n      <td>True</td>\n      <td>14</td>\n    </tr>\n  </tbody>\n</table>\n</div>"
     },
     "execution_count": 680,
     "metadata": {},
     "output_type": "execute_result"
    }
   ],
   "source": [
    "titanic.head(15)"
   ],
   "metadata": {
    "collapsed": false,
    "pycharm": {
     "name": "#%%\n"
    }
   }
  },
  {
   "cell_type": "code",
   "execution_count": 671,
   "outputs": [],
   "source": [
    "# Сохраняем табличку\n",
    "titanic.to_csv('titanic_with_data.csv', header=True, index=False)"
   ],
   "metadata": {
    "collapsed": false,
    "pycharm": {
     "name": "#%%\n"
    }
   }
  }
 ],
 "metadata": {
  "kernelspec": {
   "display_name": "Python 3",
   "language": "python",
   "name": "python3"
  },
  "language_info": {
   "codemirror_mode": {
    "name": "ipython",
    "version": 2
   },
   "file_extension": ".py",
   "mimetype": "text/x-python",
   "name": "python",
   "nbconvert_exporter": "python",
   "pygments_lexer": "ipython2",
   "version": "2.7.6"
  }
 },
 "nbformat": 4,
 "nbformat_minor": 0
}