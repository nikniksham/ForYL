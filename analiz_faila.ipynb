{
 "cells": [
  {
   "cell_type": "code",
   "execution_count": 30,
   "outputs": [],
   "source": [
    "# Установка и импорт необходимых библиотек\n",
    "# pip install pandas, numpy, sklearn, seaborn\n",
    "import pandas as pd\n",
    "import seaborn as sns\n",
    "from sklearn import tree\n",
    "from sklearn.model_selection import train_test_split, cross_val_score"
   ],
   "metadata": {
    "collapsed": false,
    "pycharm": {
     "name": "#%%\n"
    }
   }
  },
  {
   "cell_type": "code",
   "execution_count": 31,
   "metadata": {
    "collapsed": true
   },
   "outputs": [
    {
     "data": {
      "text/plain": "survived         0\npclass           0\nsex              0\nage            177\nsibsp            0\nparch            0\nfare             0\nembarked         2\nclass            0\nwho              0\nadult_male       0\ndeck           688\nembark_town      2\nalive            0\nalone            0\ndtype: int64"
     },
     "execution_count": 31,
     "metadata": {},
     "output_type": "execute_result"
    }
   ],
   "source": [
    "# Начало войны с отсутствующими данными!\n",
    "titanic_origin = pd.read_csv(\"titanic.csv\")\n",
    "titanic_origin.isnull().sum()  # Количество пропусков"
   ]
  },
  {
   "cell_type": "code",
   "execution_count": 32,
   "outputs": [],
   "source": [
    "titanic = pd.read_csv(\"titanic.csv\") # Загружаем таблицу\n",
    "\n",
    "titanic = titanic.assign(passenger_id=range(titanic.shape[0])) # Создаём id пассажирам\n",
    "\n",
    "titanic_for_ml_age = titanic.copy()  # Копируем табличку\n",
    "\n",
    "# Подготавливаем данные для машинного обучения. Удаляем лишние значения, заменяем текстовые на числовые\n",
    "titanic_for_ml_age.sex = titanic_for_ml_age.sex.replace([\"male\", \"female\"], [0, 1])\n",
    "titanic_for_ml_age = titanic_for_ml_age.drop([\"class\", \"deck\", \"embarked\", \"alive\", \"fare\", \"embark_town\"], axis=1)\n",
    "titanic_for_ml_age.who = titanic_for_ml_age.who.replace([\"man\", \"woman\", \"child\"], [0, 1, 2])\n",
    "\n",
    "# Всё float надо было преобразовать в int, так как дерево с данным методом обучения не оценивает значения с точкой\n",
    "titanic_for_ml_age.who = titanic_for_ml_age.who.apply(int)\n",
    "titanic_for_ml_age.adult_male = titanic_for_ml_age.adult_male.apply(int)\n",
    "\n",
    "titanic_for_test_age = titanic_for_ml_age.loc[titanic_for_ml_age.age.isnull()]  # Забираем данные, в которых надо возраст найти\n",
    "\n",
    "titanic_for_test_age = titanic_for_test_age.drop([\"age\"], axis=1)  # Удаляем колонку с возрастами\n",
    "\n",
    "titanic_for_ml_age = titanic_for_ml_age.dropna()  # Удаляем строки с отсутствующими возрастами\n",
    "\n",
    "titanic_for_ml_age.age = titanic_for_ml_age.age.apply(int)\n",
    "\n",
    "# Создаём данные для тренировки нейронной сети\n",
    "X_titanic_age = titanic_for_ml_age.drop([\"age\"], axis=1)\n",
    "y_titanic_age = titanic_for_ml_age.age"
   ],
   "metadata": {
    "collapsed": false,
    "pycharm": {
     "name": "#%%\n"
    }
   }
  },
  {
   "cell_type": "code",
   "execution_count": 33,
   "outputs": [
    {
     "name": "stderr",
     "output_type": "stream",
     "text": [
      "C:\\Users\\Niki\\AppData\\Local\\Temp\\ipykernel_11476\\1169121240.py:29: FutureWarning: The frame.append method is deprecated and will be removed from pandas in a future version. Use pandas.concat instead.\n",
      "  scores_data = scores_data.append({'max_depth': max_depth, 'train_score': train_score, \"test_score\": test_score, \"mistake_5\": mistake_5,\n",
      "C:\\Users\\Niki\\AppData\\Local\\Temp\\ipykernel_11476\\1169121240.py:29: FutureWarning: The frame.append method is deprecated and will be removed from pandas in a future version. Use pandas.concat instead.\n",
      "  scores_data = scores_data.append({'max_depth': max_depth, 'train_score': train_score, \"test_score\": test_score, \"mistake_5\": mistake_5,\n",
      "C:\\Users\\Niki\\AppData\\Local\\Temp\\ipykernel_11476\\1169121240.py:29: FutureWarning: The frame.append method is deprecated and will be removed from pandas in a future version. Use pandas.concat instead.\n",
      "  scores_data = scores_data.append({'max_depth': max_depth, 'train_score': train_score, \"test_score\": test_score, \"mistake_5\": mistake_5,\n",
      "C:\\Users\\Niki\\AppData\\Local\\Temp\\ipykernel_11476\\1169121240.py:29: FutureWarning: The frame.append method is deprecated and will be removed from pandas in a future version. Use pandas.concat instead.\n",
      "  scores_data = scores_data.append({'max_depth': max_depth, 'train_score': train_score, \"test_score\": test_score, \"mistake_5\": mistake_5,\n",
      "C:\\Users\\Niki\\AppData\\Local\\Temp\\ipykernel_11476\\1169121240.py:29: FutureWarning: The frame.append method is deprecated and will be removed from pandas in a future version. Use pandas.concat instead.\n",
      "  scores_data = scores_data.append({'max_depth': max_depth, 'train_score': train_score, \"test_score\": test_score, \"mistake_5\": mistake_5,\n",
      "C:\\Users\\Niki\\AppData\\Local\\Temp\\ipykernel_11476\\1169121240.py:29: FutureWarning: The frame.append method is deprecated and will be removed from pandas in a future version. Use pandas.concat instead.\n",
      "  scores_data = scores_data.append({'max_depth': max_depth, 'train_score': train_score, \"test_score\": test_score, \"mistake_5\": mistake_5,\n",
      "C:\\Users\\Niki\\AppData\\Local\\Temp\\ipykernel_11476\\1169121240.py:29: FutureWarning: The frame.append method is deprecated and will be removed from pandas in a future version. Use pandas.concat instead.\n",
      "  scores_data = scores_data.append({'max_depth': max_depth, 'train_score': train_score, \"test_score\": test_score, \"mistake_5\": mistake_5,\n",
      "C:\\Users\\Niki\\AppData\\Local\\Temp\\ipykernel_11476\\1169121240.py:29: FutureWarning: The frame.append method is deprecated and will be removed from pandas in a future version. Use pandas.concat instead.\n",
      "  scores_data = scores_data.append({'max_depth': max_depth, 'train_score': train_score, \"test_score\": test_score, \"mistake_5\": mistake_5,\n",
      "C:\\Users\\Niki\\AppData\\Local\\Temp\\ipykernel_11476\\1169121240.py:29: FutureWarning: The frame.append method is deprecated and will be removed from pandas in a future version. Use pandas.concat instead.\n",
      "  scores_data = scores_data.append({'max_depth': max_depth, 'train_score': train_score, \"test_score\": test_score, \"mistake_5\": mistake_5,\n",
      "C:\\Users\\Niki\\AppData\\Local\\Temp\\ipykernel_11476\\1169121240.py:29: FutureWarning: The frame.append method is deprecated and will be removed from pandas in a future version. Use pandas.concat instead.\n",
      "  scores_data = scores_data.append({'max_depth': max_depth, 'train_score': train_score, \"test_score\": test_score, \"mistake_5\": mistake_5,\n",
      "C:\\Users\\Niki\\AppData\\Local\\Temp\\ipykernel_11476\\1169121240.py:29: FutureWarning: The frame.append method is deprecated and will be removed from pandas in a future version. Use pandas.concat instead.\n",
      "  scores_data = scores_data.append({'max_depth': max_depth, 'train_score': train_score, \"test_score\": test_score, \"mistake_5\": mistake_5,\n",
      "C:\\Users\\Niki\\AppData\\Local\\Temp\\ipykernel_11476\\1169121240.py:29: FutureWarning: The frame.append method is deprecated and will be removed from pandas in a future version. Use pandas.concat instead.\n",
      "  scores_data = scores_data.append({'max_depth': max_depth, 'train_score': train_score, \"test_score\": test_score, \"mistake_5\": mistake_5,\n",
      "C:\\Users\\Niki\\AppData\\Local\\Temp\\ipykernel_11476\\1169121240.py:29: FutureWarning: The frame.append method is deprecated and will be removed from pandas in a future version. Use pandas.concat instead.\n",
      "  scores_data = scores_data.append({'max_depth': max_depth, 'train_score': train_score, \"test_score\": test_score, \"mistake_5\": mistake_5,\n",
      "C:\\Users\\Niki\\AppData\\Local\\Temp\\ipykernel_11476\\1169121240.py:29: FutureWarning: The frame.append method is deprecated and will be removed from pandas in a future version. Use pandas.concat instead.\n",
      "  scores_data = scores_data.append({'max_depth': max_depth, 'train_score': train_score, \"test_score\": test_score, \"mistake_5\": mistake_5,\n",
      "C:\\Users\\Niki\\AppData\\Local\\Temp\\ipykernel_11476\\1169121240.py:29: FutureWarning: The frame.append method is deprecated and will be removed from pandas in a future version. Use pandas.concat instead.\n",
      "  scores_data = scores_data.append({'max_depth': max_depth, 'train_score': train_score, \"test_score\": test_score, \"mistake_5\": mistake_5,\n"
     ]
    },
    {
     "data": {
      "text/plain": "<AxesSubplot:xlabel='max_depth', ylabel='score'>"
     },
     "execution_count": 33,
     "metadata": {},
     "output_type": "execute_result"
    },
    {
     "data": {
      "text/plain": "<Figure size 432x288 with 1 Axes>",
      "image/png": "[encoded data removed]"
     },
     "metadata": {
      "needs_background": "light"
     },
     "output_type": "display_data"
    }
   ],
   "source": [
    "# Создаём таблицу, что бы найти оптимальную глубину дерева\n",
    "scores_data = pd.DataFrame({'max_depth': [], 'train_score': [], 'test_score': [], \"mistake_5\": [], \"mistake_10\": []})\n",
    "\n",
    "# Разбиваем данные для тренировки и проверки модели\n",
    "X_titanic_train_age, X_titanic_test_age, y_titanic_train_age, y_titanic_test_age = train_test_split(X_titanic_age, y_titanic_age, test_size=0.3, random_state=10)\n",
    "\n",
    "for max_depth in range(1, 16):\n",
    "    titanic_tree_age = tree.DecisionTreeClassifier(criterion=\"entropy\", max_depth=max_depth) # Создаём\n",
    "\n",
    "    titanic_tree_age.fit(X_titanic_train_age, y_titanic_train_age)  # Тренируем\n",
    "    train_score = titanic_tree_age.score(X_titanic_train_age, y_titanic_train_age) # Тестируем\n",
    "\n",
    "    test_score = titanic_tree_age.score(X_titanic_test_age, y_titanic_test_age)  # Результат угадывания возраста с идеальной точностью\n",
    "\n",
    "    ages = list(titanic_tree_age.predict(X_titanic_test_age))\n",
    "\n",
    "    mistake_5 = 0\n",
    "    for i in range(X_titanic_test_age.shape[0]):\n",
    "        if y_titanic_test_age.iloc[i] - 5 < ages[i] < y_titanic_test_age.iloc[i] + 5:\n",
    "            mistake_5 += 1\n",
    "    mistake_5 /= X_titanic_test_age.shape[0]  # Результат угадывания возраста с погрешностью в +- 5 лет\n",
    "\n",
    "    mistake_10 = 0\n",
    "    for i in range(X_titanic_test_age.shape[0]):\n",
    "        if y_titanic_test_age.iloc[i] - 10 < ages[i] < y_titanic_test_age.iloc[i] + 10:\n",
    "            mistake_10 += 1\n",
    "    mistake_10 /= X_titanic_test_age.shape[0]  # Результат угадывания возраста с погрешностью в +- 10 лет\n",
    "\n",
    "    scores_data = scores_data.append({'max_depth': max_depth, 'train_score': train_score, \"test_score\": test_score, \"mistake_5\": mistake_5,\n",
    "                                      \"mistake_10\": mistake_10}, ignore_index=True)\n",
    "\n",
    "# Преобразуем данные для красивой таблички\n",
    "scores_data_long = pd.melt(scores_data, id_vars=['max_depth'], value_vars=['train_score', 'test_score', \"mistake_5\", \"mistake_10\"], var_name=\"set_type\", value_name=\"score\")\n",
    "sns.lineplot(x=\"max_depth\", y=\"score\", hue=\"set_type\", data=scores_data_long) # Рисуем красивую табличку"
   ],
   "metadata": {
    "collapsed": false,
    "pycharm": {
     "name": "#%%\n"
    }
   }
  },
  {
   "cell_type": "code",
   "execution_count": 34,
   "outputs": [],
   "source": [
    "titanic_tree_age = tree.DecisionTreeClassifier(criterion=\"entropy\", max_depth=6)  # Создаём модель с максимальной эффективностью\n",
    "\n",
    "titanic_tree_age.fit(X_titanic_age, y_titanic_age)  # Скармливаем весь доступный датасет, ведь чем больше данных, тем точнее предсказание\n",
    "\n",
    "titanic_for_test_age[\"age\"] = list(titanic_tree_age.predict(titanic_for_test_age))  # Находим утерянные возраста людей\n",
    "\n",
    "titanic_2 = titanic.copy()  # Копируем датасет оригинальный для мёрджа\n",
    "\n",
    "# Всю эту лабуду можно сделать и проще, но я не нашёл как\n",
    "titanic_2 = titanic_2.merge(titanic_for_test_age[[\"passenger_id\", \"age\"]], on=\"passenger_id\", how=\"left\")\n",
    "titanic.age.where(~(titanic.age.isnull()), other=titanic_2.age_y, inplace=True)"
   ],
   "metadata": {
    "collapsed": false,
    "pycharm": {
     "name": "#%%\n"
    }
   }
  },
  {
   "cell_type": "code",
   "execution_count": 35,
   "outputs": [
    {
     "name": "stdout",
     "output_type": "stream",
     "text": [
      "survived          0\n",
      "pclass            0\n",
      "sex               0\n",
      "age               0\n",
      "sibsp             0\n",
      "parch             0\n",
      "fare              0\n",
      "embarked          2\n",
      "class             0\n",
      "who               0\n",
      "adult_male        0\n",
      "deck            688\n",
      "embark_town       2\n",
      "alive             0\n",
      "alone             0\n",
      "passenger_id      0\n",
      "dtype: int64 \n",
      "\n",
      "\n",
      "Различие среднего возраста пассажиров: 0.9615531128276196\n",
      "Различие медианного возраста: 2.0\n"
     ]
    }
   ],
   "source": [
    "print(titanic.isnull().sum(), \"\\n\\n\")  # Проверяем, что всё у нас круто и вообще мы молодцы\n",
    "\n",
    "# Сравниваем отсутствие огромных различий в получившихся результатах\n",
    "titanic_original =  pd.read_csv(\"titanic.csv\")\n",
    "print(\"Различие среднего возраста пассажиров:\", titanic_original.age.mean() - titanic.age.mean())\n",
    "print(\"Различие медианного возраста:\", titanic_original.age.median() - titanic.age.median())"
   ],
   "metadata": {
    "collapsed": false,
    "pycharm": {
     "name": "#%%\n"
    }
   }
  },
  {
   "cell_type": "code",
   "execution_count": 36,
   "outputs": [],
   "source": [
    "# После заполнения возрастов было бы недурно заполнить и палубы\n",
    "\n",
    "titanic_for_ml_deck = titanic.copy()  # Копируем табличку\n",
    "\n",
    "# Подготавливаем данные для машинного обучения. Удаляем лишние значения, заменяем текстовые на числовые\n",
    "titanic_for_ml_deck = titanic_for_ml_deck.drop([\"class\", \"embark_town\", \"alive\", \"age\", \"sibsp\", \"who\", \"adult_male\", \"parch\"], axis=1)\n",
    "\n",
    "titanic_for_ml_deck = titanic_for_ml_deck[titanic_for_ml_deck.embarked.notna()]  # Удаляем два предательски отсутствующих города отправления\n",
    "\n",
    "titanic_for_ml_deck.sex = titanic_for_ml_deck.sex.replace([\"male\", \"female\"], [0, 1])\n",
    "titanic_for_ml_deck.fare = titanic_for_ml_deck.fare.apply(int)\n",
    "titanic_for_ml_deck.embarked = titanic_for_ml_deck.embarked.replace([\"S\", \"C\", \"Q\"], [0, 1, 2])\n",
    "titanic_for_ml_deck.embarked = titanic_for_ml_deck.embarked.apply(int)\n",
    "\n",
    "titanic_for_test_deck = titanic_for_ml_deck.loc[titanic_for_ml_deck.deck.isnull()]  # Забираем данные, в которых надо палубу найти\n",
    "\n",
    "titanic_for_test_deck = titanic_for_test_deck.drop([\"deck\"], axis=1)  # Удаляем колонку с палубами\n",
    "\n",
    "titanic_for_ml_deck = titanic_for_ml_deck.dropna()  # Удаляем строки с отсутствующими палубами\n",
    "\n",
    "titanic_for_ml_deck.deck = titanic_for_ml_deck.deck.replace([\"A\", \"B\", \"C\", \"D\", \"E\", \"F\", \"G\"], [0, 1, 2, 3, 4, 5, 6])\n",
    "titanic_for_ml_deck.deck = titanic_for_ml_deck.deck.apply(int)\n",
    "\n",
    "# Создаём данные для тренировки нейронной сети\n",
    "X_titanic_deck = titanic_for_ml_deck.drop([\"deck\"], axis=1)\n",
    "y_titanic_deck = titanic_for_ml_deck.deck"
   ],
   "metadata": {
    "collapsed": false,
    "pycharm": {
     "name": "#%%\n"
    }
   }
  },
  {
   "cell_type": "code",
   "execution_count": 37,
   "outputs": [
    {
     "name": "stderr",
     "output_type": "stream",
     "text": [
      "c:\\users\\niki\\pycharmprojects\\yandexlyceum\\foryl\\venv\\lib\\site-packages\\sklearn\\model_selection\\_split.py:676: UserWarning: The least populated class in y has only 2 members, which is less than n_splits=5.\n",
      "  warnings.warn(\n",
      "C:\\Users\\Niki\\AppData\\Local\\Temp\\ipykernel_11476\\4200817821.py:17: FutureWarning: The frame.append method is deprecated and will be removed from pandas in a future version. Use pandas.concat instead.\n",
      "  scores_data = scores_data.append({'max_depth': max_depth, 'train_score': train_score, \"test_score\": test_score,\n",
      "c:\\users\\niki\\pycharmprojects\\yandexlyceum\\foryl\\venv\\lib\\site-packages\\sklearn\\model_selection\\_split.py:676: UserWarning: The least populated class in y has only 2 members, which is less than n_splits=5.\n",
      "  warnings.warn(\n",
      "C:\\Users\\Niki\\AppData\\Local\\Temp\\ipykernel_11476\\4200817821.py:17: FutureWarning: The frame.append method is deprecated and will be removed from pandas in a future version. Use pandas.concat instead.\n",
      "  scores_data = scores_data.append({'max_depth': max_depth, 'train_score': train_score, \"test_score\": test_score,\n",
      "c:\\users\\niki\\pycharmprojects\\yandexlyceum\\foryl\\venv\\lib\\site-packages\\sklearn\\model_selection\\_split.py:676: UserWarning: The least populated class in y has only 2 members, which is less than n_splits=5.\n",
      "  warnings.warn(\n",
      "C:\\Users\\Niki\\AppData\\Local\\Temp\\ipykernel_11476\\4200817821.py:17: FutureWarning: The frame.append method is deprecated and will be removed from pandas in a future version. Use pandas.concat instead.\n",
      "  scores_data = scores_data.append({'max_depth': max_depth, 'train_score': train_score, \"test_score\": test_score,\n",
      "c:\\users\\niki\\pycharmprojects\\yandexlyceum\\foryl\\venv\\lib\\site-packages\\sklearn\\model_selection\\_split.py:676: UserWarning: The least populated class in y has only 2 members, which is less than n_splits=5.\n",
      "  warnings.warn(\n",
      "C:\\Users\\Niki\\AppData\\Local\\Temp\\ipykernel_11476\\4200817821.py:17: FutureWarning: The frame.append method is deprecated and will be removed from pandas in a future version. Use pandas.concat instead.\n",
      "  scores_data = scores_data.append({'max_depth': max_depth, 'train_score': train_score, \"test_score\": test_score,\n",
      "c:\\users\\niki\\pycharmprojects\\yandexlyceum\\foryl\\venv\\lib\\site-packages\\sklearn\\model_selection\\_split.py:676: UserWarning: The least populated class in y has only 2 members, which is less than n_splits=5.\n",
      "  warnings.warn(\n",
      "C:\\Users\\Niki\\AppData\\Local\\Temp\\ipykernel_11476\\4200817821.py:17: FutureWarning: The frame.append method is deprecated and will be removed from pandas in a future version. Use pandas.concat instead.\n",
      "  scores_data = scores_data.append({'max_depth': max_depth, 'train_score': train_score, \"test_score\": test_score,\n",
      "c:\\users\\niki\\pycharmprojects\\yandexlyceum\\foryl\\venv\\lib\\site-packages\\sklearn\\model_selection\\_split.py:676: UserWarning: The least populated class in y has only 2 members, which is less than n_splits=5.\n",
      "  warnings.warn(\n",
      "C:\\Users\\Niki\\AppData\\Local\\Temp\\ipykernel_11476\\4200817821.py:17: FutureWarning: The frame.append method is deprecated and will be removed from pandas in a future version. Use pandas.concat instead.\n",
      "  scores_data = scores_data.append({'max_depth': max_depth, 'train_score': train_score, \"test_score\": test_score,\n",
      "c:\\users\\niki\\pycharmprojects\\yandexlyceum\\foryl\\venv\\lib\\site-packages\\sklearn\\model_selection\\_split.py:676: UserWarning: The least populated class in y has only 2 members, which is less than n_splits=5.\n",
      "  warnings.warn(\n",
      "C:\\Users\\Niki\\AppData\\Local\\Temp\\ipykernel_11476\\4200817821.py:17: FutureWarning: The frame.append method is deprecated and will be removed from pandas in a future version. Use pandas.concat instead.\n",
      "  scores_data = scores_data.append({'max_depth': max_depth, 'train_score': train_score, \"test_score\": test_score,\n",
      "c:\\users\\niki\\pycharmprojects\\yandexlyceum\\foryl\\venv\\lib\\site-packages\\sklearn\\model_selection\\_split.py:676: UserWarning: The least populated class in y has only 2 members, which is less than n_splits=5.\n",
      "  warnings.warn(\n",
      "C:\\Users\\Niki\\AppData\\Local\\Temp\\ipykernel_11476\\4200817821.py:17: FutureWarning: The frame.append method is deprecated and will be removed from pandas in a future version. Use pandas.concat instead.\n",
      "  scores_data = scores_data.append({'max_depth': max_depth, 'train_score': train_score, \"test_score\": test_score,\n",
      "c:\\users\\niki\\pycharmprojects\\yandexlyceum\\foryl\\venv\\lib\\site-packages\\sklearn\\model_selection\\_split.py:676: UserWarning: The least populated class in y has only 2 members, which is less than n_splits=5.\n",
      "  warnings.warn(\n",
      "C:\\Users\\Niki\\AppData\\Local\\Temp\\ipykernel_11476\\4200817821.py:17: FutureWarning: The frame.append method is deprecated and will be removed from pandas in a future version. Use pandas.concat instead.\n",
      "  scores_data = scores_data.append({'max_depth': max_depth, 'train_score': train_score, \"test_score\": test_score,\n",
      "c:\\users\\niki\\pycharmprojects\\yandexlyceum\\foryl\\venv\\lib\\site-packages\\sklearn\\model_selection\\_split.py:676: UserWarning: The least populated class in y has only 2 members, which is less than n_splits=5.\n",
      "  warnings.warn(\n",
      "C:\\Users\\Niki\\AppData\\Local\\Temp\\ipykernel_11476\\4200817821.py:17: FutureWarning: The frame.append method is deprecated and will be removed from pandas in a future version. Use pandas.concat instead.\n",
      "  scores_data = scores_data.append({'max_depth': max_depth, 'train_score': train_score, \"test_score\": test_score,\n",
      "c:\\users\\niki\\pycharmprojects\\yandexlyceum\\foryl\\venv\\lib\\site-packages\\sklearn\\model_selection\\_split.py:676: UserWarning: The least populated class in y has only 2 members, which is less than n_splits=5.\n",
      "  warnings.warn(\n",
      "C:\\Users\\Niki\\AppData\\Local\\Temp\\ipykernel_11476\\4200817821.py:17: FutureWarning: The frame.append method is deprecated and will be removed from pandas in a future version. Use pandas.concat instead.\n",
      "  scores_data = scores_data.append({'max_depth': max_depth, 'train_score': train_score, \"test_score\": test_score,\n",
      "c:\\users\\niki\\pycharmprojects\\yandexlyceum\\foryl\\venv\\lib\\site-packages\\sklearn\\model_selection\\_split.py:676: UserWarning: The least populated class in y has only 2 members, which is less than n_splits=5.\n",
      "  warnings.warn(\n",
      "C:\\Users\\Niki\\AppData\\Local\\Temp\\ipykernel_11476\\4200817821.py:17: FutureWarning: The frame.append method is deprecated and will be removed from pandas in a future version. Use pandas.concat instead.\n",
      "  scores_data = scores_data.append({'max_depth': max_depth, 'train_score': train_score, \"test_score\": test_score,\n",
      "c:\\users\\niki\\pycharmprojects\\yandexlyceum\\foryl\\venv\\lib\\site-packages\\sklearn\\model_selection\\_split.py:676: UserWarning: The least populated class in y has only 2 members, which is less than n_splits=5.\n",
      "  warnings.warn(\n",
      "C:\\Users\\Niki\\AppData\\Local\\Temp\\ipykernel_11476\\4200817821.py:17: FutureWarning: The frame.append method is deprecated and will be removed from pandas in a future version. Use pandas.concat instead.\n",
      "  scores_data = scores_data.append({'max_depth': max_depth, 'train_score': train_score, \"test_score\": test_score,\n",
      "c:\\users\\niki\\pycharmprojects\\yandexlyceum\\foryl\\venv\\lib\\site-packages\\sklearn\\model_selection\\_split.py:676: UserWarning: The least populated class in y has only 2 members, which is less than n_splits=5.\n",
      "  warnings.warn(\n",
      "C:\\Users\\Niki\\AppData\\Local\\Temp\\ipykernel_11476\\4200817821.py:17: FutureWarning: The frame.append method is deprecated and will be removed from pandas in a future version. Use pandas.concat instead.\n",
      "  scores_data = scores_data.append({'max_depth': max_depth, 'train_score': train_score, \"test_score\": test_score,\n",
      "c:\\users\\niki\\pycharmprojects\\yandexlyceum\\foryl\\venv\\lib\\site-packages\\sklearn\\model_selection\\_split.py:676: UserWarning: The least populated class in y has only 2 members, which is less than n_splits=5.\n",
      "  warnings.warn(\n",
      "C:\\Users\\Niki\\AppData\\Local\\Temp\\ipykernel_11476\\4200817821.py:17: FutureWarning: The frame.append method is deprecated and will be removed from pandas in a future version. Use pandas.concat instead.\n",
      "  scores_data = scores_data.append({'max_depth': max_depth, 'train_score': train_score, \"test_score\": test_score,\n"
     ]
    },
    {
     "data": {
      "text/plain": "<AxesSubplot:xlabel='max_depth', ylabel='score'>"
     },
     "execution_count": 37,
     "metadata": {},
     "output_type": "execute_result"
    },
    {
     "data": {
      "text/plain": "<Figure size 432x288 with 1 Axes>",
      "image/png": "[encoded data removed]"
     },
     "metadata": {
      "needs_background": "light"
     },
     "output_type": "display_data"
    }
   ],
   "source": [
    "# Опять создаём таблицу, что бы найти оптимальную глубину дерева\n",
    "scores_data = pd.DataFrame({'max_depth': [], 'train_score': [], 'test_score': [], \"mean_cross_val_score\": []})\n",
    "\n",
    "# Разбиваем данные для тренировки и проверки модели\n",
    "X_titanic_train_deck, X_titanic_test_deck, y_titanic_train_deck, y_titanic_test_deck = train_test_split(X_titanic_deck, y_titanic_deck, test_size=0.3, random_state=10)\n",
    "\n",
    "for max_depth in range(1, 16):\n",
    "    titanic_tree_deck = tree.DecisionTreeClassifier(criterion=\"entropy\", max_depth=max_depth) # Создаём\n",
    "\n",
    "    titanic_tree_deck.fit(X_titanic_train_deck, y_titanic_train_deck)  # Тренируем\n",
    "    train_score = titanic_tree_deck.score(X_titanic_train_deck, y_titanic_train_deck) # Тестируем\n",
    "\n",
    "    mean_cross_val_score = cross_val_score(titanic_tree_deck, X_titanic_train_deck, y_titanic_train_deck, cv=5).mean()  # Ещё один крутой метод тестирования\n",
    "\n",
    "    test_score = titanic_tree_deck.score(X_titanic_test_deck, y_titanic_test_deck)  # Результат угадывания возраста с идеальной точностью\n",
    "\n",
    "    scores_data = scores_data.append({'max_depth': max_depth, 'train_score': train_score, \"test_score\": test_score,\n",
    "                                      \"mean_cross_val_score\": mean_cross_val_score}, ignore_index=True)\n",
    "\n",
    "# Преобразуем данные для красивой таблички\n",
    "scores_data_long = pd.melt(scores_data, id_vars=['max_depth'], value_vars=['train_score', 'test_score', 'mean_cross_val_score'], var_name=\"set_type\", value_name=\"score\")\n",
    "sns.lineplot(x=\"max_depth\", y=\"score\", hue=\"set_type\", data=scores_data_long) # Рисуем красивую табличку"
   ],
   "metadata": {
    "collapsed": false,
    "pycharm": {
     "name": "#%%\n"
    }
   }
  },
  {
   "cell_type": "code",
   "execution_count": 38,
   "outputs": [],
   "source": [
    "titanic_tree_deck = tree.DecisionTreeClassifier(criterion=\"entropy\", max_depth=6)  # Создаём модель с максимальной эффективностью\n",
    "\n",
    "titanic_tree_deck.fit(X_titanic_deck, y_titanic_deck)  # Скармливаем весь доступный датасет\n",
    "\n",
    "titanic_for_test_deck[\"deck\"] = list(titanic_tree_deck.predict(titanic_for_test_deck))\n",
    "\n",
    "titanic_for_test_deck.deck = titanic_for_test_deck.deck.replace([0, 1, 2, 3, 4, 5, 6], [\"A\", \"B\", \"C\", \"D\", \"E\", \"F\", \"G\"])  # Меняем название палуб с чисел на буквы\n",
    "\n",
    "titanic_2 = titanic.copy()  # Копируем датасет оригинальный для мёрджа\n",
    "\n",
    "# Всю эту лабуду можно сделать и проще, но я не нашёл как\n",
    "titanic_2 = titanic_2.merge(titanic_for_test_deck[[\"passenger_id\", \"deck\"]], on=\"passenger_id\", how=\"left\")\n",
    "titanic.deck.where(~(titanic.deck.isnull()), other=titanic_2.deck_y, inplace=True)\n",
    "\n",
    "# titanic.loc[titanic.pclass == 3].groupby(\"deck\").agg(\"deck\").count()"
   ],
   "metadata": {
    "collapsed": false,
    "pycharm": {
     "name": "#%%\n"
    }
   }
  },
  {
   "cell_type": "code",
   "execution_count": 39,
   "outputs": [
    {
     "name": "stdout",
     "output_type": "stream",
     "text": [
      "survived        0\n",
      "pclass          0\n",
      "sex             0\n",
      "age             0\n",
      "sibsp           0\n",
      "parch           0\n",
      "fare            0\n",
      "embarked        2\n",
      "class           0\n",
      "who             0\n",
      "adult_male      0\n",
      "deck            0\n",
      "embark_town     2\n",
      "alive           0\n",
      "alone           0\n",
      "passenger_id    0\n",
      "dtype: int64 \n",
      "\n",
      " (891, 16)\n"
     ]
    }
   ],
   "source": [
    "print(titanic.isnull().sum(), \"\\n\\n\", titanic.shape)  # Проверяем, что все данные на месте (ну почти)"
   ],
   "metadata": {
    "collapsed": false,
    "pycharm": {
     "name": "#%%\n"
    }
   }
  },
  {
   "cell_type": "code",
   "execution_count": 40,
   "outputs": [],
   "source": [
    "# Ура, обучаем третью нейронку, что бы заполнить два \"случайно пропавших\" города отправления, да, яндекс?\n",
    "# Снова мы здесь, пояснять шаги уже не буду\n",
    "\n",
    "titanic_for_ml_embarked = titanic.copy()\n",
    "\n",
    "titanic_for_ml_embarked = titanic_for_ml_embarked.drop([\"class\", \"embark_town\", \"alive\", \"sibsp\", \"adult_male\", \"parch\", \"fare\", \"age\", \"who\"], axis=1)\n",
    "\n",
    "titanic_for_ml_embarked.sex = titanic_for_ml_embarked.sex.replace([\"male\", \"female\"], [0, 1])\n",
    "titanic_for_ml_embarked.deck = titanic_for_ml_embarked.deck.replace([\"A\", \"B\", \"C\", \"D\", \"E\", \"F\", \"G\"], [0, 1, 2, 3, 4, 5, 6])\n",
    "titanic_for_ml_embarked.deck = titanic_for_ml_embarked.deck.apply(int)\n",
    "\n",
    "titanic_for_test_embarked = titanic_for_ml_embarked.loc[titanic_for_ml_embarked.embarked.isnull()]\n",
    "\n",
    "titanic_for_test_embarked = titanic_for_test_embarked.drop([\"embarked\"], axis=1)\n",
    "\n",
    "titanic_for_ml_embarked = titanic_for_ml_embarked.dropna()\n",
    "\n",
    "titanic_for_ml_embarked.embarked = titanic_for_ml_embarked.embarked.replace([\"S\", \"C\", \"Q\"], [0, 1, 2])\n",
    "titanic_for_ml_embarked.embarked = titanic_for_ml_embarked.embarked.apply(int)\n",
    "\n",
    "# Создаём данные для тренировки нейронной сети\n",
    "X_titanic_embarked = titanic_for_ml_embarked.drop([\"embarked\"], axis=1)\n",
    "y_titanic_embarked = titanic_for_ml_embarked.embarked"
   ],
   "metadata": {
    "collapsed": false,
    "pycharm": {
     "name": "#%%\n"
    }
   }
  },
  {
   "cell_type": "code",
   "execution_count": 41,
   "outputs": [
    {
     "name": "stderr",
     "output_type": "stream",
     "text": [
      "C:\\Users\\Niki\\AppData\\Local\\Temp\\ipykernel_11476\\1561927212.py:15: FutureWarning: The frame.append method is deprecated and will be removed from pandas in a future version. Use pandas.concat instead.\n",
      "  scores_data = scores_data.append({'max_depth': max_depth, 'train_score': train_score, \"test_score\": test_score,\n",
      "C:\\Users\\Niki\\AppData\\Local\\Temp\\ipykernel_11476\\1561927212.py:15: FutureWarning: The frame.append method is deprecated and will be removed from pandas in a future version. Use pandas.concat instead.\n",
      "  scores_data = scores_data.append({'max_depth': max_depth, 'train_score': train_score, \"test_score\": test_score,\n",
      "C:\\Users\\Niki\\AppData\\Local\\Temp\\ipykernel_11476\\1561927212.py:15: FutureWarning: The frame.append method is deprecated and will be removed from pandas in a future version. Use pandas.concat instead.\n",
      "  scores_data = scores_data.append({'max_depth': max_depth, 'train_score': train_score, \"test_score\": test_score,\n",
      "C:\\Users\\Niki\\AppData\\Local\\Temp\\ipykernel_11476\\1561927212.py:15: FutureWarning: The frame.append method is deprecated and will be removed from pandas in a future version. Use pandas.concat instead.\n",
      "  scores_data = scores_data.append({'max_depth': max_depth, 'train_score': train_score, \"test_score\": test_score,\n",
      "C:\\Users\\Niki\\AppData\\Local\\Temp\\ipykernel_11476\\1561927212.py:15: FutureWarning: The frame.append method is deprecated and will be removed from pandas in a future version. Use pandas.concat instead.\n",
      "  scores_data = scores_data.append({'max_depth': max_depth, 'train_score': train_score, \"test_score\": test_score,\n",
      "C:\\Users\\Niki\\AppData\\Local\\Temp\\ipykernel_11476\\1561927212.py:15: FutureWarning: The frame.append method is deprecated and will be removed from pandas in a future version. Use pandas.concat instead.\n",
      "  scores_data = scores_data.append({'max_depth': max_depth, 'train_score': train_score, \"test_score\": test_score,\n",
      "C:\\Users\\Niki\\AppData\\Local\\Temp\\ipykernel_11476\\1561927212.py:15: FutureWarning: The frame.append method is deprecated and will be removed from pandas in a future version. Use pandas.concat instead.\n",
      "  scores_data = scores_data.append({'max_depth': max_depth, 'train_score': train_score, \"test_score\": test_score,\n",
      "C:\\Users\\Niki\\AppData\\Local\\Temp\\ipykernel_11476\\1561927212.py:15: FutureWarning: The frame.append method is deprecated and will be removed from pandas in a future version. Use pandas.concat instead.\n",
      "  scores_data = scores_data.append({'max_depth': max_depth, 'train_score': train_score, \"test_score\": test_score,\n",
      "C:\\Users\\Niki\\AppData\\Local\\Temp\\ipykernel_11476\\1561927212.py:15: FutureWarning: The frame.append method is deprecated and will be removed from pandas in a future version. Use pandas.concat instead.\n",
      "  scores_data = scores_data.append({'max_depth': max_depth, 'train_score': train_score, \"test_score\": test_score,\n",
      "C:\\Users\\Niki\\AppData\\Local\\Temp\\ipykernel_11476\\1561927212.py:15: FutureWarning: The frame.append method is deprecated and will be removed from pandas in a future version. Use pandas.concat instead.\n",
      "  scores_data = scores_data.append({'max_depth': max_depth, 'train_score': train_score, \"test_score\": test_score,\n",
      "C:\\Users\\Niki\\AppData\\Local\\Temp\\ipykernel_11476\\1561927212.py:15: FutureWarning: The frame.append method is deprecated and will be removed from pandas in a future version. Use pandas.concat instead.\n",
      "  scores_data = scores_data.append({'max_depth': max_depth, 'train_score': train_score, \"test_score\": test_score,\n",
      "C:\\Users\\Niki\\AppData\\Local\\Temp\\ipykernel_11476\\1561927212.py:15: FutureWarning: The frame.append method is deprecated and will be removed from pandas in a future version. Use pandas.concat instead.\n",
      "  scores_data = scores_data.append({'max_depth': max_depth, 'train_score': train_score, \"test_score\": test_score,\n",
      "C:\\Users\\Niki\\AppData\\Local\\Temp\\ipykernel_11476\\1561927212.py:15: FutureWarning: The frame.append method is deprecated and will be removed from pandas in a future version. Use pandas.concat instead.\n",
      "  scores_data = scores_data.append({'max_depth': max_depth, 'train_score': train_score, \"test_score\": test_score,\n",
      "C:\\Users\\Niki\\AppData\\Local\\Temp\\ipykernel_11476\\1561927212.py:15: FutureWarning: The frame.append method is deprecated and will be removed from pandas in a future version. Use pandas.concat instead.\n",
      "  scores_data = scores_data.append({'max_depth': max_depth, 'train_score': train_score, \"test_score\": test_score,\n",
      "C:\\Users\\Niki\\AppData\\Local\\Temp\\ipykernel_11476\\1561927212.py:15: FutureWarning: The frame.append method is deprecated and will be removed from pandas in a future version. Use pandas.concat instead.\n",
      "  scores_data = scores_data.append({'max_depth': max_depth, 'train_score': train_score, \"test_score\": test_score,\n"
     ]
    },
    {
     "data": {
      "text/plain": "<AxesSubplot:xlabel='max_depth', ylabel='score'>"
     },
     "execution_count": 41,
     "metadata": {},
     "output_type": "execute_result"
    },
    {
     "data": {
      "text/plain": "<Figure size 432x288 with 1 Axes>",
      "image/png": "[encoded data removed]"
     },
     "metadata": {
      "needs_background": "light"
     },
     "output_type": "display_data"
    }
   ],
   "source": [
    "scores_data = pd.DataFrame({'max_depth': [], 'train_score': [], 'test_score': [], \"mean_cross_val_score\": []})\n",
    "\n",
    "X_titanic_train_embarked, X_titanic_test_embarked, y_titanic_train_embarked, y_titanic_test_embarked = train_test_split(X_titanic_embarked, y_titanic_embarked, test_size=0.3, random_state=10)\n",
    "\n",
    "for max_depth in range(1, 16):\n",
    "    titanic_tree_embarked = tree.DecisionTreeClassifier(criterion=\"entropy\", max_depth=max_depth) # Создаём\n",
    "\n",
    "    titanic_tree_embarked.fit(X_titanic_train_embarked, y_titanic_train_embarked)  # Тренируем\n",
    "    train_score = titanic_tree_embarked.score(X_titanic_train_embarked, y_titanic_train_embarked) # Тестируем\n",
    "\n",
    "    mean_cross_val_score = cross_val_score(titanic_tree_embarked, X_titanic_train_embarked, y_titanic_train_embarked, cv=5).mean()\n",
    "\n",
    "    test_score = titanic_tree_embarked.score(X_titanic_test_embarked, y_titanic_test_embarked)\n",
    "\n",
    "    scores_data = scores_data.append({'max_depth': max_depth, 'train_score': train_score, \"test_score\": test_score,\n",
    "                                      \"mean_cross_val_score\": mean_cross_val_score}, ignore_index=True)\n",
    "\n",
    "# Преобразуем данные для красивой таблички\n",
    "scores_data_long = pd.melt(scores_data, id_vars=['max_depth'], value_vars=['train_score', 'test_score', 'mean_cross_val_score'], var_name=\"set_type\", value_name=\"score\")\n",
    "sns.lineplot(x=\"max_depth\", y=\"score\", hue=\"set_type\", data=scores_data_long) # Рисуем красивую табличку"
   ],
   "metadata": {
    "collapsed": false,
    "pycharm": {
     "name": "#%%\n"
    }
   }
  },
  {
   "cell_type": "code",
   "execution_count": 42,
   "outputs": [],
   "source": [
    "titanic_tree_embarked = tree.DecisionTreeClassifier(criterion=\"entropy\", max_depth=3)\n",
    "\n",
    "titanic_tree_embarked.fit(X_titanic_embarked, y_titanic_embarked)\n",
    "\n",
    "titanic_for_test_embarked[\"embarked\"] = list(titanic_tree_embarked.predict(titanic_for_test_embarked))\n",
    "\n",
    "titanic_for_test_embarked.embarked = titanic_for_test_embarked.embarked.replace([0, 1, 2], [\"S\", \"C\", \"Q\"])\n",
    "\n",
    "titanic_2 = titanic.copy()\n",
    "\n",
    "titanic_2 = titanic_2.merge(titanic_for_test_embarked[[\"passenger_id\", \"embarked\"]], on=\"passenger_id\", how=\"left\")\n",
    "\n",
    "titanic.embarked.where(~(titanic.embarked.isnull()), other=titanic_2.embarked_y, inplace=True)\n",
    "\n",
    "titanic.embark_town.where(~(titanic.embark_town.isnull()), other=titanic.embarked, inplace=True)\n",
    "titanic.embark_town = titanic.embark_town.replace([\"S\", \"C\", \"Q\"], ['Southampton', 'Cherbourg', 'Queenstown'])"
   ],
   "metadata": {
    "collapsed": false,
    "pycharm": {
     "name": "#%%\n"
    }
   }
  },
  {
   "cell_type": "code",
   "execution_count": 43,
   "outputs": [
    {
     "name": "stdout",
     "output_type": "stream",
     "text": [
      "survived        0\n",
      "pclass          0\n",
      "sex             0\n",
      "age             0\n",
      "sibsp           0\n",
      "parch           0\n",
      "fare            0\n",
      "embarked        0\n",
      "class           0\n",
      "who             0\n",
      "adult_male      0\n",
      "deck            0\n",
      "embark_town     0\n",
      "alive           0\n",
      "alone           0\n",
      "passenger_id    0\n",
      "dtype: int64 \n",
      "\n",
      " (891, 16)\n"
     ]
    }
   ],
   "source": [
    "print(titanic.isnull().sum(), \"\\n\\n\", titanic.shape)  # ПОБЕДА!!!"
   ],
   "metadata": {
    "collapsed": false,
    "pycharm": {
     "name": "#%%\n"
    }
   }
  },
  {
   "cell_type": "code",
   "execution_count": 44,
   "outputs": [
    {
     "data": {
      "text/plain": "sex\nfemale    314\nmale      577\nName: sex, dtype: int64"
     },
     "execution_count": 44,
     "metadata": {},
     "output_type": "execute_result"
    }
   ],
   "source": [
    "# Находим количество мужчин и женщин\n",
    "titanic.groupby(\"sex\").agg(\"sex\").count()"
   ],
   "metadata": {
    "collapsed": false,
    "pycharm": {
     "name": "#%%\n"
    }
   }
  },
  {
   "cell_type": "code",
   "execution_count": 45,
   "outputs": [
    {
     "data": {
      "text/plain": "(0, 0)"
     },
     "execution_count": 45,
     "metadata": {},
     "output_type": "execute_result"
    }
   ],
   "source": [
    "# Проверяем, можно ли доверять столбцу adult_male\n",
    "titanic.loc[(titanic.adult_male == True) & (titanic.sex != \"male\")].passenger_id.count(), titanic.loc[(titanic.adult_male == True) & (titanic.age < 16)].passenger_id.count()\n",
    "# Доверять можно"
   ],
   "metadata": {
    "collapsed": false,
    "pycharm": {
     "name": "#%%\n"
    }
   }
  },
  {
   "cell_type": "code",
   "execution_count": 46,
   "outputs": [
    {
     "data": {
      "text/plain": "class\nFirst     216\nSecond    184\nThird     491\nName: class, dtype: int64"
     },
     "execution_count": 46,
     "metadata": {},
     "output_type": "execute_result"
    }
   ],
   "source": [
    "# Количество людей в разных классах\n",
    "titanic.groupby(\"class\").agg(\"class\").count()"
   ],
   "metadata": {
    "collapsed": false,
    "pycharm": {
     "name": "#%%\n"
    }
   }
  },
  {
   "cell_type": "code",
   "execution_count": 47,
   "outputs": [
    {
     "data": {
      "text/plain": "     survived  pclass     sex   age  sibsp  parch     fare embarked  class  \\\n777         1       3  female   5.0      0      0  12.4750        S  Third   \n731         0       3    male  11.0      0      0  18.7875        C  Third   \n780         1       3  female  13.0      0      0   7.2292        C  Third   \n14          0       3  female  14.0      0      0   7.8542        S  Third   \n875         1       3  female  15.0      0      0   7.2250        C  Third   \n22          1       3  female  15.0      0      0   8.0292        Q  Third   \n\n       who  adult_male deck  embark_town alive  alone  passenger_id  \n777  child       False    F  Southampton   yes   True           777  \n731  child       False    D    Cherbourg    no   True           731  \n780  child       False    F    Cherbourg   yes   True           780  \n14   child       False    F  Southampton    no   True            14  \n875  child       False    F    Cherbourg   yes   True           875  \n22   child       False    E   Queenstown   yes   True            22  ",
      "text/html": "<div>\n<style scoped>\n    .dataframe tbody tr th:only-of-type {\n        vertical-align: middle;\n    }\n\n    .dataframe tbody tr th {\n        vertical-align: top;\n    }\n\n    .dataframe thead th {\n        text-align: right;\n    }\n</style>\n<table border=\"1\" class=\"dataframe\">\n  <thead>\n    <tr style=\"text-align: right;\">\n      <th></th>\n      <th>survived</th>\n      <th>pclass</th>\n      <th>sex</th>\n      <th>age</th>\n      <th>sibsp</th>\n      <th>parch</th>\n      <th>fare</th>\n      <th>embarked</th>\n      <th>class</th>\n      <th>who</th>\n      <th>adult_male</th>\n      <th>deck</th>\n      <th>embark_town</th>\n      <th>alive</th>\n      <th>alone</th>\n      <th>passenger_id</th>\n    </tr>\n  </thead>\n  <tbody>\n    <tr>\n      <th>777</th>\n      <td>1</td>\n      <td>3</td>\n      <td>female</td>\n      <td>5.0</td>\n      <td>0</td>\n      <td>0</td>\n      <td>12.4750</td>\n      <td>S</td>\n      <td>Third</td>\n      <td>child</td>\n      <td>False</td>\n      <td>F</td>\n      <td>Southampton</td>\n      <td>yes</td>\n      <td>True</td>\n      <td>777</td>\n    </tr>\n    <tr>\n      <th>731</th>\n      <td>0</td>\n      <td>3</td>\n      <td>male</td>\n      <td>11.0</td>\n      <td>0</td>\n      <td>0</td>\n      <td>18.7875</td>\n      <td>C</td>\n      <td>Third</td>\n      <td>child</td>\n      <td>False</td>\n      <td>D</td>\n      <td>Cherbourg</td>\n      <td>no</td>\n      <td>True</td>\n      <td>731</td>\n    </tr>\n    <tr>\n      <th>780</th>\n      <td>1</td>\n      <td>3</td>\n      <td>female</td>\n      <td>13.0</td>\n      <td>0</td>\n      <td>0</td>\n      <td>7.2292</td>\n      <td>C</td>\n      <td>Third</td>\n      <td>child</td>\n      <td>False</td>\n      <td>F</td>\n      <td>Cherbourg</td>\n      <td>yes</td>\n      <td>True</td>\n      <td>780</td>\n    </tr>\n    <tr>\n      <th>14</th>\n      <td>0</td>\n      <td>3</td>\n      <td>female</td>\n      <td>14.0</td>\n      <td>0</td>\n      <td>0</td>\n      <td>7.8542</td>\n      <td>S</td>\n      <td>Third</td>\n      <td>child</td>\n      <td>False</td>\n      <td>F</td>\n      <td>Southampton</td>\n      <td>no</td>\n      <td>True</td>\n      <td>14</td>\n    </tr>\n    <tr>\n      <th>875</th>\n      <td>1</td>\n      <td>3</td>\n      <td>female</td>\n      <td>15.0</td>\n      <td>0</td>\n      <td>0</td>\n      <td>7.2250</td>\n      <td>C</td>\n      <td>Third</td>\n      <td>child</td>\n      <td>False</td>\n      <td>F</td>\n      <td>Cherbourg</td>\n      <td>yes</td>\n      <td>True</td>\n      <td>875</td>\n    </tr>\n    <tr>\n      <th>22</th>\n      <td>1</td>\n      <td>3</td>\n      <td>female</td>\n      <td>15.0</td>\n      <td>0</td>\n      <td>0</td>\n      <td>8.0292</td>\n      <td>Q</td>\n      <td>Third</td>\n      <td>child</td>\n      <td>False</td>\n      <td>E</td>\n      <td>Queenstown</td>\n      <td>yes</td>\n      <td>True</td>\n      <td>22</td>\n    </tr>\n  </tbody>\n</table>\n</div>"
     },
     "execution_count": 47,
     "metadata": {},
     "output_type": "execute_result"
    }
   ],
   "source": [
    "# Странные путешественники (Пятилетняя девочка на 777 индеске в самовольном приключении звучит не очень убедительно) (остальные тоже странно, так как совершеннолетие было с 16 лет)\n",
    "titanic.loc[titanic.alone == True].sort_values(\"age\").head(6)"
   ],
   "metadata": {
    "collapsed": false,
    "pycharm": {
     "name": "#%%\n"
    }
   }
  },
  {
   "cell_type": "code",
   "execution_count": 48,
   "outputs": [
    {
     "data": {
      "text/plain": "     survived  pclass   sex   age  sibsp  parch  fare embarked   class  who  \\\n271         1       3  male  25.0      0      0   0.0        S   Third  man   \n597         0       3  male  49.0      0      0   0.0        S   Third  man   \n302         0       3  male  19.0      0      0   0.0        S   Third  man   \n633         0       1  male  47.0      0      0   0.0        S   First  man   \n277         0       2  male  19.0      0      0   0.0        S  Second  man   \n413         0       2  male  28.0      0      0   0.0        S  Second  man   \n674         0       2  male  28.0      0      0   0.0        S  Second  man   \n263         0       1  male  40.0      0      0   0.0        S   First  man   \n466         0       2  male  28.0      0      0   0.0        S  Second  man   \n732         0       2  male  39.0      0      0   0.0        S  Second  man   \n179         0       3  male  36.0      0      0   0.0        S   Third  man   \n806         0       1  male  39.0      0      0   0.0        S   First  man   \n481         0       2  male  28.0      0      0   0.0        S  Second  man   \n822         0       1  male  38.0      0      0   0.0        S   First  man   \n815         0       1  male  29.0      0      0   0.0        S   First  man   \n\n     adult_male deck  embark_town alive  alone  passenger_id  \n271        True    F  Southampton   yes   True           271  \n597        True    F  Southampton    no   True           597  \n302        True    F  Southampton    no   True           302  \n633        True    C  Southampton    no   True           633  \n277        True    F  Southampton    no   True           277  \n413        True    F  Southampton    no   True           413  \n674        True    F  Southampton    no   True           674  \n263        True    B  Southampton    no   True           263  \n466        True    F  Southampton    no   True           466  \n732        True    F  Southampton    no   True           732  \n179        True    F  Southampton    no   True           179  \n806        True    A  Southampton    no   True           806  \n481        True    F  Southampton    no   True           481  \n822        True    D  Southampton    no   True           822  \n815        True    B  Southampton    no   True           815  ",
      "text/html": "<div>\n<style scoped>\n    .dataframe tbody tr th:only-of-type {\n        vertical-align: middle;\n    }\n\n    .dataframe tbody tr th {\n        vertical-align: top;\n    }\n\n    .dataframe thead th {\n        text-align: right;\n    }\n</style>\n<table border=\"1\" class=\"dataframe\">\n  <thead>\n    <tr style=\"text-align: right;\">\n      <th></th>\n      <th>survived</th>\n      <th>pclass</th>\n      <th>sex</th>\n      <th>age</th>\n      <th>sibsp</th>\n      <th>parch</th>\n      <th>fare</th>\n      <th>embarked</th>\n      <th>class</th>\n      <th>who</th>\n      <th>adult_male</th>\n      <th>deck</th>\n      <th>embark_town</th>\n      <th>alive</th>\n      <th>alone</th>\n      <th>passenger_id</th>\n    </tr>\n  </thead>\n  <tbody>\n    <tr>\n      <th>271</th>\n      <td>1</td>\n      <td>3</td>\n      <td>male</td>\n      <td>25.0</td>\n      <td>0</td>\n      <td>0</td>\n      <td>0.0</td>\n      <td>S</td>\n      <td>Third</td>\n      <td>man</td>\n      <td>True</td>\n      <td>F</td>\n      <td>Southampton</td>\n      <td>yes</td>\n      <td>True</td>\n      <td>271</td>\n    </tr>\n    <tr>\n      <th>597</th>\n      <td>0</td>\n      <td>3</td>\n      <td>male</td>\n      <td>49.0</td>\n      <td>0</td>\n      <td>0</td>\n      <td>0.0</td>\n      <td>S</td>\n      <td>Third</td>\n      <td>man</td>\n      <td>True</td>\n      <td>F</td>\n      <td>Southampton</td>\n      <td>no</td>\n      <td>True</td>\n      <td>597</td>\n    </tr>\n    <tr>\n      <th>302</th>\n      <td>0</td>\n      <td>3</td>\n      <td>male</td>\n      <td>19.0</td>\n      <td>0</td>\n      <td>0</td>\n      <td>0.0</td>\n      <td>S</td>\n      <td>Third</td>\n      <td>man</td>\n      <td>True</td>\n      <td>F</td>\n      <td>Southampton</td>\n      <td>no</td>\n      <td>True</td>\n      <td>302</td>\n    </tr>\n    <tr>\n      <th>633</th>\n      <td>0</td>\n      <td>1</td>\n      <td>male</td>\n      <td>47.0</td>\n      <td>0</td>\n      <td>0</td>\n      <td>0.0</td>\n      <td>S</td>\n      <td>First</td>\n      <td>man</td>\n      <td>True</td>\n      <td>C</td>\n      <td>Southampton</td>\n      <td>no</td>\n      <td>True</td>\n      <td>633</td>\n    </tr>\n    <tr>\n      <th>277</th>\n      <td>0</td>\n      <td>2</td>\n      <td>male</td>\n      <td>19.0</td>\n      <td>0</td>\n      <td>0</td>\n      <td>0.0</td>\n      <td>S</td>\n      <td>Second</td>\n      <td>man</td>\n      <td>True</td>\n      <td>F</td>\n      <td>Southampton</td>\n      <td>no</td>\n      <td>True</td>\n      <td>277</td>\n    </tr>\n    <tr>\n      <th>413</th>\n      <td>0</td>\n      <td>2</td>\n      <td>male</td>\n      <td>28.0</td>\n      <td>0</td>\n      <td>0</td>\n      <td>0.0</td>\n      <td>S</td>\n      <td>Second</td>\n      <td>man</td>\n      <td>True</td>\n      <td>F</td>\n      <td>Southampton</td>\n      <td>no</td>\n      <td>True</td>\n      <td>413</td>\n    </tr>\n    <tr>\n      <th>674</th>\n      <td>0</td>\n      <td>2</td>\n      <td>male</td>\n      <td>28.0</td>\n      <td>0</td>\n      <td>0</td>\n      <td>0.0</td>\n      <td>S</td>\n      <td>Second</td>\n      <td>man</td>\n      <td>True</td>\n      <td>F</td>\n      <td>Southampton</td>\n      <td>no</td>\n      <td>True</td>\n      <td>674</td>\n    </tr>\n    <tr>\n      <th>263</th>\n      <td>0</td>\n      <td>1</td>\n      <td>male</td>\n      <td>40.0</td>\n      <td>0</td>\n      <td>0</td>\n      <td>0.0</td>\n      <td>S</td>\n      <td>First</td>\n      <td>man</td>\n      <td>True</td>\n      <td>B</td>\n      <td>Southampton</td>\n      <td>no</td>\n      <td>True</td>\n      <td>263</td>\n    </tr>\n    <tr>\n      <th>466</th>\n      <td>0</td>\n      <td>2</td>\n      <td>male</td>\n      <td>28.0</td>\n      <td>0</td>\n      <td>0</td>\n      <td>0.0</td>\n      <td>S</td>\n      <td>Second</td>\n      <td>man</td>\n      <td>True</td>\n      <td>F</td>\n      <td>Southampton</td>\n      <td>no</td>\n      <td>True</td>\n      <td>466</td>\n    </tr>\n    <tr>\n      <th>732</th>\n      <td>0</td>\n      <td>2</td>\n      <td>male</td>\n      <td>39.0</td>\n      <td>0</td>\n      <td>0</td>\n      <td>0.0</td>\n      <td>S</td>\n      <td>Second</td>\n      <td>man</td>\n      <td>True</td>\n      <td>F</td>\n      <td>Southampton</td>\n      <td>no</td>\n      <td>True</td>\n      <td>732</td>\n    </tr>\n    <tr>\n      <th>179</th>\n      <td>0</td>\n      <td>3</td>\n      <td>male</td>\n      <td>36.0</td>\n      <td>0</td>\n      <td>0</td>\n      <td>0.0</td>\n      <td>S</td>\n      <td>Third</td>\n      <td>man</td>\n      <td>True</td>\n      <td>F</td>\n      <td>Southampton</td>\n      <td>no</td>\n      <td>True</td>\n      <td>179</td>\n    </tr>\n    <tr>\n      <th>806</th>\n      <td>0</td>\n      <td>1</td>\n      <td>male</td>\n      <td>39.0</td>\n      <td>0</td>\n      <td>0</td>\n      <td>0.0</td>\n      <td>S</td>\n      <td>First</td>\n      <td>man</td>\n      <td>True</td>\n      <td>A</td>\n      <td>Southampton</td>\n      <td>no</td>\n      <td>True</td>\n      <td>806</td>\n    </tr>\n    <tr>\n      <th>481</th>\n      <td>0</td>\n      <td>2</td>\n      <td>male</td>\n      <td>28.0</td>\n      <td>0</td>\n      <td>0</td>\n      <td>0.0</td>\n      <td>S</td>\n      <td>Second</td>\n      <td>man</td>\n      <td>True</td>\n      <td>F</td>\n      <td>Southampton</td>\n      <td>no</td>\n      <td>True</td>\n      <td>481</td>\n    </tr>\n    <tr>\n      <th>822</th>\n      <td>0</td>\n      <td>1</td>\n      <td>male</td>\n      <td>38.0</td>\n      <td>0</td>\n      <td>0</td>\n      <td>0.0</td>\n      <td>S</td>\n      <td>First</td>\n      <td>man</td>\n      <td>True</td>\n      <td>D</td>\n      <td>Southampton</td>\n      <td>no</td>\n      <td>True</td>\n      <td>822</td>\n    </tr>\n    <tr>\n      <th>815</th>\n      <td>0</td>\n      <td>1</td>\n      <td>male</td>\n      <td>29.0</td>\n      <td>0</td>\n      <td>0</td>\n      <td>0.0</td>\n      <td>S</td>\n      <td>First</td>\n      <td>man</td>\n      <td>True</td>\n      <td>B</td>\n      <td>Southampton</td>\n      <td>no</td>\n      <td>True</td>\n      <td>815</td>\n    </tr>\n  </tbody>\n</table>\n</div>"
     },
     "execution_count": 48,
     "metadata": {},
     "output_type": "execute_result"
    }
   ],
   "source": [
    "# Странные цены\n",
    "# Люди, заплатившие за проезд 0 фунтов (или натурой, но об этом таблица уже умалчивает))\n",
    "titanic.sort_values(\"fare\").head(15)"
   ],
   "metadata": {
    "collapsed": false,
    "pycharm": {
     "name": "#%%\n"
    }
   }
  },
  {
   "cell_type": "code",
   "execution_count": 49,
   "outputs": [
    {
     "data": {
      "text/plain": "     survived  pclass     sex   age  sibsp  parch     fare embarked  class  \\\n324         0       3    male  40.0      8      2  69.5500        S  Third   \n792         0       3  female  18.0      8      2  69.5500        S  Third   \n180         0       3  female  29.0      8      2  69.5500        S  Third   \n159         0       3    male  40.0      8      2  69.5500        S  Third   \n201         0       3    male  40.0      8      2  69.5500        S  Third   \n863         0       3  female  19.0      8      2  69.5500        S  Third   \n846         0       3    male  17.0      8      2  69.5500        S  Third   \n643         1       3    male  20.0      0      0  56.4958        S  Third   \n169         0       3    male  28.0      0      0  56.4958        S  Third   \n509         1       3    male  26.0      0      0  56.4958        S  Third   \n74          1       3    male  32.0      0      0  56.4958        S  Third   \n826         0       3    male  18.0      0      0  56.4958        S  Third   \n692         1       3    male  18.0      0      0  56.4958        S  Third   \n838         1       3    male  32.0      0      0  56.4958        S  Third   \n71          0       3  female  16.0      5      2  46.9000        S  Third   \n683         0       3    male  14.0      5      2  46.9000        S  Third   \n59          0       3    male  11.0      5      2  46.9000        S  Third   \n480         0       3    male   9.0      5      2  46.9000        S  Third   \n678         0       3  female  43.0      1      6  46.9000        S  Third   \n386         0       3    male   1.0      5      2  46.9000        S  Third   \n638         0       3  female  41.0      0      5  39.6875        S  Third   \n686         0       3    male  14.0      4      1  39.6875        S  Third   \n824         0       3    male   2.0      4      1  39.6875        S  Third   \n266         0       3    male  16.0      4      1  39.6875        S  Third   \n50          0       3    male   7.0      4      1  39.6875        S  Third   \n164         0       3    male   1.0      4      1  39.6875        S  Third   \n436         0       3  female  21.0      2      2  34.3750        S  Third   \n736         0       3  female  48.0      1      3  34.3750        S  Third   \n86          0       3    male  16.0      1      3  34.3750        S  Third   \n147         0       3  female   9.0      2      2  34.3750        S  Third   \n182         0       3    male   9.0      4      2  31.3875        S  Third   \n233         1       3  female   5.0      4      2  31.3875        S  Third   \n25          1       3  female  38.0      1      5  31.3875        S  Third   \n261         1       3    male   3.0      4      2  31.3875        S  Third   \n13          0       3    male  39.0      1      5  31.2750        S  Third   \n813         0       3  female   6.0      4      2  31.2750        S  Third   \n850         0       3    male   4.0      4      2  31.2750        S  Third   \n119         0       3  female   2.0      4      2  31.2750        S  Third   \n610         0       3  female  39.0      1      5  31.2750        S  Third   \n541         0       3  female   9.0      4      2  31.2750        S  Third   \n542         0       3  female  11.0      4      2  31.2750        S  Third   \n171         0       3    male   4.0      4      1  29.1250        Q  Third   \n278         0       3    male   7.0      4      1  29.1250        Q  Third   \n16          0       3    male   2.0      4      1  29.1250        Q  Third   \n787         0       3    male   8.0      4      1  29.1250        Q  Third   \n885         0       3  female  39.0      0      5  29.1250        Q  Third   \n63          0       3    male   4.0      3      2  27.9000        S  Third   \n360         0       3    male  40.0      1      4  27.9000        S  Third   \n634         0       3  female   9.0      3      2  27.9000        S  Third   \n819         0       3    male  10.0      3      2  27.9000        S  Third   \n\n       who  adult_male deck  embark_town alive  alone  passenger_id  \n324    man        True    F  Southampton    no  False           324  \n792  woman       False    F  Southampton    no  False           792  \n180  woman       False    F  Southampton    no  False           180  \n159    man        True    F  Southampton    no  False           159  \n201    man        True    F  Southampton    no  False           201  \n863  woman       False    F  Southampton    no  False           863  \n846    man        True    F  Southampton    no  False           846  \n643    man        True    F  Southampton   yes   True           643  \n169    man        True    D  Southampton    no   True           169  \n509    man        True    F  Southampton   yes   True           509  \n74     man        True    D  Southampton   yes   True            74  \n826    man        True    F  Southampton    no   True           826  \n692    man        True    F  Southampton   yes   True           692  \n838    man        True    F  Southampton   yes   True           838  \n71   woman       False    F  Southampton    no  False            71  \n683  child       False    F  Southampton    no  False           683  \n59   child       False    F  Southampton    no  False            59  \n480  child       False    F  Southampton    no  False           480  \n678  woman       False    F  Southampton    no  False           678  \n386  child       False    F  Southampton    no  False           386  \n638  woman       False    F  Southampton    no  False           638  \n686  child       False    F  Southampton    no  False           686  \n824  child       False    F  Southampton    no  False           824  \n266    man        True    F  Southampton    no  False           266  \n50   child       False    F  Southampton    no  False            50  \n164  child       False    F  Southampton    no  False           164  \n436  woman       False    F  Southampton    no  False           436  \n736  woman       False    F  Southampton    no  False           736  \n86     man        True    F  Southampton    no  False            86  \n147  child       False    F  Southampton    no  False           147  \n182  child       False    F  Southampton    no  False           182  \n233  child       False    F  Southampton   yes  False           233  \n25   woman       False    F  Southampton   yes  False            25  \n261  child       False    F  Southampton   yes  False           261  \n13     man        True    F  Southampton    no  False            13  \n813  child       False    F  Southampton    no  False           813  \n850  child       False    F  Southampton    no  False           850  \n119  child       False    F  Southampton    no  False           119  \n610  woman       False    F  Southampton    no  False           610  \n541  child       False    F  Southampton    no  False           541  \n542  child       False    F  Southampton    no  False           542  \n171  child       False    F   Queenstown    no  False           171  \n278  child       False    F   Queenstown    no  False           278  \n16   child       False    F   Queenstown    no  False            16  \n787  child       False    F   Queenstown    no  False           787  \n885  woman       False    F   Queenstown    no  False           885  \n63   child       False    F  Southampton    no  False            63  \n360    man        True    F  Southampton    no  False           360  \n634  child       False    F  Southampton    no  False           634  \n819  child       False    F  Southampton    no  False           819  ",
      "text/html": "<div>\n<style scoped>\n    .dataframe tbody tr th:only-of-type {\n        vertical-align: middle;\n    }\n\n    .dataframe tbody tr th {\n        vertical-align: top;\n    }\n\n    .dataframe thead th {\n        text-align: right;\n    }\n</style>\n<table border=\"1\" class=\"dataframe\">\n  <thead>\n    <tr style=\"text-align: right;\">\n      <th></th>\n      <th>survived</th>\n      <th>pclass</th>\n      <th>sex</th>\n      <th>age</th>\n      <th>sibsp</th>\n      <th>parch</th>\n      <th>fare</th>\n      <th>embarked</th>\n      <th>class</th>\n      <th>who</th>\n      <th>adult_male</th>\n      <th>deck</th>\n      <th>embark_town</th>\n      <th>alive</th>\n      <th>alone</th>\n      <th>passenger_id</th>\n    </tr>\n  </thead>\n  <tbody>\n    <tr>\n      <th>324</th>\n      <td>0</td>\n      <td>3</td>\n      <td>male</td>\n      <td>40.0</td>\n      <td>8</td>\n      <td>2</td>\n      <td>69.5500</td>\n      <td>S</td>\n      <td>Third</td>\n      <td>man</td>\n      <td>True</td>\n      <td>F</td>\n      <td>Southampton</td>\n      <td>no</td>\n      <td>False</td>\n      <td>324</td>\n    </tr>\n    <tr>\n      <th>792</th>\n      <td>0</td>\n      <td>3</td>\n      <td>female</td>\n      <td>18.0</td>\n      <td>8</td>\n      <td>2</td>\n      <td>69.5500</td>\n      <td>S</td>\n      <td>Third</td>\n      <td>woman</td>\n      <td>False</td>\n      <td>F</td>\n      <td>Southampton</td>\n      <td>no</td>\n      <td>False</td>\n      <td>792</td>\n    </tr>\n    <tr>\n      <th>180</th>\n      <td>0</td>\n      <td>3</td>\n      <td>female</td>\n      <td>29.0</td>\n      <td>8</td>\n      <td>2</td>\n      <td>69.5500</td>\n      <td>S</td>\n      <td>Third</td>\n      <td>woman</td>\n      <td>False</td>\n      <td>F</td>\n      <td>Southampton</td>\n      <td>no</td>\n      <td>False</td>\n      <td>180</td>\n    </tr>\n    <tr>\n      <th>159</th>\n      <td>0</td>\n      <td>3</td>\n      <td>male</td>\n      <td>40.0</td>\n      <td>8</td>\n      <td>2</td>\n      <td>69.5500</td>\n      <td>S</td>\n      <td>Third</td>\n      <td>man</td>\n      <td>True</td>\n      <td>F</td>\n      <td>Southampton</td>\n      <td>no</td>\n      <td>False</td>\n      <td>159</td>\n    </tr>\n    <tr>\n      <th>201</th>\n      <td>0</td>\n      <td>3</td>\n      <td>male</td>\n      <td>40.0</td>\n      <td>8</td>\n      <td>2</td>\n      <td>69.5500</td>\n      <td>S</td>\n      <td>Third</td>\n      <td>man</td>\n      <td>True</td>\n      <td>F</td>\n      <td>Southampton</td>\n      <td>no</td>\n      <td>False</td>\n      <td>201</td>\n    </tr>\n    <tr>\n      <th>863</th>\n      <td>0</td>\n      <td>3</td>\n      <td>female</td>\n      <td>19.0</td>\n      <td>8</td>\n      <td>2</td>\n      <td>69.5500</td>\n      <td>S</td>\n      <td>Third</td>\n      <td>woman</td>\n      <td>False</td>\n      <td>F</td>\n      <td>Southampton</td>\n      <td>no</td>\n      <td>False</td>\n      <td>863</td>\n    </tr>\n    <tr>\n      <th>846</th>\n      <td>0</td>\n      <td>3</td>\n      <td>male</td>\n      <td>17.0</td>\n      <td>8</td>\n      <td>2</td>\n      <td>69.5500</td>\n      <td>S</td>\n      <td>Third</td>\n      <td>man</td>\n      <td>True</td>\n      <td>F</td>\n      <td>Southampton</td>\n      <td>no</td>\n      <td>False</td>\n      <td>846</td>\n    </tr>\n    <tr>\n      <th>643</th>\n      <td>1</td>\n      <td>3</td>\n      <td>male</td>\n      <td>20.0</td>\n      <td>0</td>\n      <td>0</td>\n      <td>56.4958</td>\n      <td>S</td>\n      <td>Third</td>\n      <td>man</td>\n      <td>True</td>\n      <td>F</td>\n      <td>Southampton</td>\n      <td>yes</td>\n      <td>True</td>\n      <td>643</td>\n    </tr>\n    <tr>\n      <th>169</th>\n      <td>0</td>\n      <td>3</td>\n      <td>male</td>\n      <td>28.0</td>\n      <td>0</td>\n      <td>0</td>\n      <td>56.4958</td>\n      <td>S</td>\n      <td>Third</td>\n      <td>man</td>\n      <td>True</td>\n      <td>D</td>\n      <td>Southampton</td>\n      <td>no</td>\n      <td>True</td>\n      <td>169</td>\n    </tr>\n    <tr>\n      <th>509</th>\n      <td>1</td>\n      <td>3</td>\n      <td>male</td>\n      <td>26.0</td>\n      <td>0</td>\n      <td>0</td>\n      <td>56.4958</td>\n      <td>S</td>\n      <td>Third</td>\n      <td>man</td>\n      <td>True</td>\n      <td>F</td>\n      <td>Southampton</td>\n      <td>yes</td>\n      <td>True</td>\n      <td>509</td>\n    </tr>\n    <tr>\n      <th>74</th>\n      <td>1</td>\n      <td>3</td>\n      <td>male</td>\n      <td>32.0</td>\n      <td>0</td>\n      <td>0</td>\n      <td>56.4958</td>\n      <td>S</td>\n      <td>Third</td>\n      <td>man</td>\n      <td>True</td>\n      <td>D</td>\n      <td>Southampton</td>\n      <td>yes</td>\n      <td>True</td>\n      <td>74</td>\n    </tr>\n    <tr>\n      <th>826</th>\n      <td>0</td>\n      <td>3</td>\n      <td>male</td>\n      <td>18.0</td>\n      <td>0</td>\n      <td>0</td>\n      <td>56.4958</td>\n      <td>S</td>\n      <td>Third</td>\n      <td>man</td>\n      <td>True</td>\n      <td>F</td>\n      <td>Southampton</td>\n      <td>no</td>\n      <td>True</td>\n      <td>826</td>\n    </tr>\n    <tr>\n      <th>692</th>\n      <td>1</td>\n      <td>3</td>\n      <td>male</td>\n      <td>18.0</td>\n      <td>0</td>\n      <td>0</td>\n      <td>56.4958</td>\n      <td>S</td>\n      <td>Third</td>\n      <td>man</td>\n      <td>True</td>\n      <td>F</td>\n      <td>Southampton</td>\n      <td>yes</td>\n      <td>True</td>\n      <td>692</td>\n    </tr>\n    <tr>\n      <th>838</th>\n      <td>1</td>\n      <td>3</td>\n      <td>male</td>\n      <td>32.0</td>\n      <td>0</td>\n      <td>0</td>\n      <td>56.4958</td>\n      <td>S</td>\n      <td>Third</td>\n      <td>man</td>\n      <td>True</td>\n      <td>F</td>\n      <td>Southampton</td>\n      <td>yes</td>\n      <td>True</td>\n      <td>838</td>\n    </tr>\n    <tr>\n      <th>71</th>\n      <td>0</td>\n      <td>3</td>\n      <td>female</td>\n      <td>16.0</td>\n      <td>5</td>\n      <td>2</td>\n      <td>46.9000</td>\n      <td>S</td>\n      <td>Third</td>\n      <td>woman</td>\n      <td>False</td>\n      <td>F</td>\n      <td>Southampton</td>\n      <td>no</td>\n      <td>False</td>\n      <td>71</td>\n    </tr>\n    <tr>\n      <th>683</th>\n      <td>0</td>\n      <td>3</td>\n      <td>male</td>\n      <td>14.0</td>\n      <td>5</td>\n      <td>2</td>\n      <td>46.9000</td>\n      <td>S</td>\n      <td>Third</td>\n      <td>child</td>\n      <td>False</td>\n      <td>F</td>\n      <td>Southampton</td>\n      <td>no</td>\n      <td>False</td>\n      <td>683</td>\n    </tr>\n    <tr>\n      <th>59</th>\n      <td>0</td>\n      <td>3</td>\n      <td>male</td>\n      <td>11.0</td>\n      <td>5</td>\n      <td>2</td>\n      <td>46.9000</td>\n      <td>S</td>\n      <td>Third</td>\n      <td>child</td>\n      <td>False</td>\n      <td>F</td>\n      <td>Southampton</td>\n      <td>no</td>\n      <td>False</td>\n      <td>59</td>\n    </tr>\n    <tr>\n      <th>480</th>\n      <td>0</td>\n      <td>3</td>\n      <td>male</td>\n      <td>9.0</td>\n      <td>5</td>\n      <td>2</td>\n      <td>46.9000</td>\n      <td>S</td>\n      <td>Third</td>\n      <td>child</td>\n      <td>False</td>\n      <td>F</td>\n      <td>Southampton</td>\n      <td>no</td>\n      <td>False</td>\n      <td>480</td>\n    </tr>\n    <tr>\n      <th>678</th>\n      <td>0</td>\n      <td>3</td>\n      <td>female</td>\n      <td>43.0</td>\n      <td>1</td>\n      <td>6</td>\n      <td>46.9000</td>\n      <td>S</td>\n      <td>Third</td>\n      <td>woman</td>\n      <td>False</td>\n      <td>F</td>\n      <td>Southampton</td>\n      <td>no</td>\n      <td>False</td>\n      <td>678</td>\n    </tr>\n    <tr>\n      <th>386</th>\n      <td>0</td>\n      <td>3</td>\n      <td>male</td>\n      <td>1.0</td>\n      <td>5</td>\n      <td>2</td>\n      <td>46.9000</td>\n      <td>S</td>\n      <td>Third</td>\n      <td>child</td>\n      <td>False</td>\n      <td>F</td>\n      <td>Southampton</td>\n      <td>no</td>\n      <td>False</td>\n      <td>386</td>\n    </tr>\n    <tr>\n      <th>638</th>\n      <td>0</td>\n      <td>3</td>\n      <td>female</td>\n      <td>41.0</td>\n      <td>0</td>\n      <td>5</td>\n      <td>39.6875</td>\n      <td>S</td>\n      <td>Third</td>\n      <td>woman</td>\n      <td>False</td>\n      <td>F</td>\n      <td>Southampton</td>\n      <td>no</td>\n      <td>False</td>\n      <td>638</td>\n    </tr>\n    <tr>\n      <th>686</th>\n      <td>0</td>\n      <td>3</td>\n      <td>male</td>\n      <td>14.0</td>\n      <td>4</td>\n      <td>1</td>\n      <td>39.6875</td>\n      <td>S</td>\n      <td>Third</td>\n      <td>child</td>\n      <td>False</td>\n      <td>F</td>\n      <td>Southampton</td>\n      <td>no</td>\n      <td>False</td>\n      <td>686</td>\n    </tr>\n    <tr>\n      <th>824</th>\n      <td>0</td>\n      <td>3</td>\n      <td>male</td>\n      <td>2.0</td>\n      <td>4</td>\n      <td>1</td>\n      <td>39.6875</td>\n      <td>S</td>\n      <td>Third</td>\n      <td>child</td>\n      <td>False</td>\n      <td>F</td>\n      <td>Southampton</td>\n      <td>no</td>\n      <td>False</td>\n      <td>824</td>\n    </tr>\n    <tr>\n      <th>266</th>\n      <td>0</td>\n      <td>3</td>\n      <td>male</td>\n      <td>16.0</td>\n      <td>4</td>\n      <td>1</td>\n      <td>39.6875</td>\n      <td>S</td>\n      <td>Third</td>\n      <td>man</td>\n      <td>True</td>\n      <td>F</td>\n      <td>Southampton</td>\n      <td>no</td>\n      <td>False</td>\n      <td>266</td>\n    </tr>\n    <tr>\n      <th>50</th>\n      <td>0</td>\n      <td>3</td>\n      <td>male</td>\n      <td>7.0</td>\n      <td>4</td>\n      <td>1</td>\n      <td>39.6875</td>\n      <td>S</td>\n      <td>Third</td>\n      <td>child</td>\n      <td>False</td>\n      <td>F</td>\n      <td>Southampton</td>\n      <td>no</td>\n      <td>False</td>\n      <td>50</td>\n    </tr>\n    <tr>\n      <th>164</th>\n      <td>0</td>\n      <td>3</td>\n      <td>male</td>\n      <td>1.0</td>\n      <td>4</td>\n      <td>1</td>\n      <td>39.6875</td>\n      <td>S</td>\n      <td>Third</td>\n      <td>child</td>\n      <td>False</td>\n      <td>F</td>\n      <td>Southampton</td>\n      <td>no</td>\n      <td>False</td>\n      <td>164</td>\n    </tr>\n    <tr>\n      <th>436</th>\n      <td>0</td>\n      <td>3</td>\n      <td>female</td>\n      <td>21.0</td>\n      <td>2</td>\n      <td>2</td>\n      <td>34.3750</td>\n      <td>S</td>\n      <td>Third</td>\n      <td>woman</td>\n      <td>False</td>\n      <td>F</td>\n      <td>Southampton</td>\n      <td>no</td>\n      <td>False</td>\n      <td>436</td>\n    </tr>\n    <tr>\n      <th>736</th>\n      <td>0</td>\n      <td>3</td>\n      <td>female</td>\n      <td>48.0</td>\n      <td>1</td>\n      <td>3</td>\n      <td>34.3750</td>\n      <td>S</td>\n      <td>Third</td>\n      <td>woman</td>\n      <td>False</td>\n      <td>F</td>\n      <td>Southampton</td>\n      <td>no</td>\n      <td>False</td>\n      <td>736</td>\n    </tr>\n    <tr>\n      <th>86</th>\n      <td>0</td>\n      <td>3</td>\n      <td>male</td>\n      <td>16.0</td>\n      <td>1</td>\n      <td>3</td>\n      <td>34.3750</td>\n      <td>S</td>\n      <td>Third</td>\n      <td>man</td>\n      <td>True</td>\n      <td>F</td>\n      <td>Southampton</td>\n      <td>no</td>\n      <td>False</td>\n      <td>86</td>\n    </tr>\n    <tr>\n      <th>147</th>\n      <td>0</td>\n      <td>3</td>\n      <td>female</td>\n      <td>9.0</td>\n      <td>2</td>\n      <td>2</td>\n      <td>34.3750</td>\n      <td>S</td>\n      <td>Third</td>\n      <td>child</td>\n      <td>False</td>\n      <td>F</td>\n      <td>Southampton</td>\n      <td>no</td>\n      <td>False</td>\n      <td>147</td>\n    </tr>\n    <tr>\n      <th>182</th>\n      <td>0</td>\n      <td>3</td>\n      <td>male</td>\n      <td>9.0</td>\n      <td>4</td>\n      <td>2</td>\n      <td>31.3875</td>\n      <td>S</td>\n      <td>Third</td>\n      <td>child</td>\n      <td>False</td>\n      <td>F</td>\n      <td>Southampton</td>\n      <td>no</td>\n      <td>False</td>\n      <td>182</td>\n    </tr>\n    <tr>\n      <th>233</th>\n      <td>1</td>\n      <td>3</td>\n      <td>female</td>\n      <td>5.0</td>\n      <td>4</td>\n      <td>2</td>\n      <td>31.3875</td>\n      <td>S</td>\n      <td>Third</td>\n      <td>child</td>\n      <td>False</td>\n      <td>F</td>\n      <td>Southampton</td>\n      <td>yes</td>\n      <td>False</td>\n      <td>233</td>\n    </tr>\n    <tr>\n      <th>25</th>\n      <td>1</td>\n      <td>3</td>\n      <td>female</td>\n      <td>38.0</td>\n      <td>1</td>\n      <td>5</td>\n      <td>31.3875</td>\n      <td>S</td>\n      <td>Third</td>\n      <td>woman</td>\n      <td>False</td>\n      <td>F</td>\n      <td>Southampton</td>\n      <td>yes</td>\n      <td>False</td>\n      <td>25</td>\n    </tr>\n    <tr>\n      <th>261</th>\n      <td>1</td>\n      <td>3</td>\n      <td>male</td>\n      <td>3.0</td>\n      <td>4</td>\n      <td>2</td>\n      <td>31.3875</td>\n      <td>S</td>\n      <td>Third</td>\n      <td>child</td>\n      <td>False</td>\n      <td>F</td>\n      <td>Southampton</td>\n      <td>yes</td>\n      <td>False</td>\n      <td>261</td>\n    </tr>\n    <tr>\n      <th>13</th>\n      <td>0</td>\n      <td>3</td>\n      <td>male</td>\n      <td>39.0</td>\n      <td>1</td>\n      <td>5</td>\n      <td>31.2750</td>\n      <td>S</td>\n      <td>Third</td>\n      <td>man</td>\n      <td>True</td>\n      <td>F</td>\n      <td>Southampton</td>\n      <td>no</td>\n      <td>False</td>\n      <td>13</td>\n    </tr>\n    <tr>\n      <th>813</th>\n      <td>0</td>\n      <td>3</td>\n      <td>female</td>\n      <td>6.0</td>\n      <td>4</td>\n      <td>2</td>\n      <td>31.2750</td>\n      <td>S</td>\n      <td>Third</td>\n      <td>child</td>\n      <td>False</td>\n      <td>F</td>\n      <td>Southampton</td>\n      <td>no</td>\n      <td>False</td>\n      <td>813</td>\n    </tr>\n    <tr>\n      <th>850</th>\n      <td>0</td>\n      <td>3</td>\n      <td>male</td>\n      <td>4.0</td>\n      <td>4</td>\n      <td>2</td>\n      <td>31.2750</td>\n      <td>S</td>\n      <td>Third</td>\n      <td>child</td>\n      <td>False</td>\n      <td>F</td>\n      <td>Southampton</td>\n      <td>no</td>\n      <td>False</td>\n      <td>850</td>\n    </tr>\n    <tr>\n      <th>119</th>\n      <td>0</td>\n      <td>3</td>\n      <td>female</td>\n      <td>2.0</td>\n      <td>4</td>\n      <td>2</td>\n      <td>31.2750</td>\n      <td>S</td>\n      <td>Third</td>\n      <td>child</td>\n      <td>False</td>\n      <td>F</td>\n      <td>Southampton</td>\n      <td>no</td>\n      <td>False</td>\n      <td>119</td>\n    </tr>\n    <tr>\n      <th>610</th>\n      <td>0</td>\n      <td>3</td>\n      <td>female</td>\n      <td>39.0</td>\n      <td>1</td>\n      <td>5</td>\n      <td>31.2750</td>\n      <td>S</td>\n      <td>Third</td>\n      <td>woman</td>\n      <td>False</td>\n      <td>F</td>\n      <td>Southampton</td>\n      <td>no</td>\n      <td>False</td>\n      <td>610</td>\n    </tr>\n    <tr>\n      <th>541</th>\n      <td>0</td>\n      <td>3</td>\n      <td>female</td>\n      <td>9.0</td>\n      <td>4</td>\n      <td>2</td>\n      <td>31.2750</td>\n      <td>S</td>\n      <td>Third</td>\n      <td>child</td>\n      <td>False</td>\n      <td>F</td>\n      <td>Southampton</td>\n      <td>no</td>\n      <td>False</td>\n      <td>541</td>\n    </tr>\n    <tr>\n      <th>542</th>\n      <td>0</td>\n      <td>3</td>\n      <td>female</td>\n      <td>11.0</td>\n      <td>4</td>\n      <td>2</td>\n      <td>31.2750</td>\n      <td>S</td>\n      <td>Third</td>\n      <td>child</td>\n      <td>False</td>\n      <td>F</td>\n      <td>Southampton</td>\n      <td>no</td>\n      <td>False</td>\n      <td>542</td>\n    </tr>\n    <tr>\n      <th>171</th>\n      <td>0</td>\n      <td>3</td>\n      <td>male</td>\n      <td>4.0</td>\n      <td>4</td>\n      <td>1</td>\n      <td>29.1250</td>\n      <td>Q</td>\n      <td>Third</td>\n      <td>child</td>\n      <td>False</td>\n      <td>F</td>\n      <td>Queenstown</td>\n      <td>no</td>\n      <td>False</td>\n      <td>171</td>\n    </tr>\n    <tr>\n      <th>278</th>\n      <td>0</td>\n      <td>3</td>\n      <td>male</td>\n      <td>7.0</td>\n      <td>4</td>\n      <td>1</td>\n      <td>29.1250</td>\n      <td>Q</td>\n      <td>Third</td>\n      <td>child</td>\n      <td>False</td>\n      <td>F</td>\n      <td>Queenstown</td>\n      <td>no</td>\n      <td>False</td>\n      <td>278</td>\n    </tr>\n    <tr>\n      <th>16</th>\n      <td>0</td>\n      <td>3</td>\n      <td>male</td>\n      <td>2.0</td>\n      <td>4</td>\n      <td>1</td>\n      <td>29.1250</td>\n      <td>Q</td>\n      <td>Third</td>\n      <td>child</td>\n      <td>False</td>\n      <td>F</td>\n      <td>Queenstown</td>\n      <td>no</td>\n      <td>False</td>\n      <td>16</td>\n    </tr>\n    <tr>\n      <th>787</th>\n      <td>0</td>\n      <td>3</td>\n      <td>male</td>\n      <td>8.0</td>\n      <td>4</td>\n      <td>1</td>\n      <td>29.1250</td>\n      <td>Q</td>\n      <td>Third</td>\n      <td>child</td>\n      <td>False</td>\n      <td>F</td>\n      <td>Queenstown</td>\n      <td>no</td>\n      <td>False</td>\n      <td>787</td>\n    </tr>\n    <tr>\n      <th>885</th>\n      <td>0</td>\n      <td>3</td>\n      <td>female</td>\n      <td>39.0</td>\n      <td>0</td>\n      <td>5</td>\n      <td>29.1250</td>\n      <td>Q</td>\n      <td>Third</td>\n      <td>woman</td>\n      <td>False</td>\n      <td>F</td>\n      <td>Queenstown</td>\n      <td>no</td>\n      <td>False</td>\n      <td>885</td>\n    </tr>\n    <tr>\n      <th>63</th>\n      <td>0</td>\n      <td>3</td>\n      <td>male</td>\n      <td>4.0</td>\n      <td>3</td>\n      <td>2</td>\n      <td>27.9000</td>\n      <td>S</td>\n      <td>Third</td>\n      <td>child</td>\n      <td>False</td>\n      <td>F</td>\n      <td>Southampton</td>\n      <td>no</td>\n      <td>False</td>\n      <td>63</td>\n    </tr>\n    <tr>\n      <th>360</th>\n      <td>0</td>\n      <td>3</td>\n      <td>male</td>\n      <td>40.0</td>\n      <td>1</td>\n      <td>4</td>\n      <td>27.9000</td>\n      <td>S</td>\n      <td>Third</td>\n      <td>man</td>\n      <td>True</td>\n      <td>F</td>\n      <td>Southampton</td>\n      <td>no</td>\n      <td>False</td>\n      <td>360</td>\n    </tr>\n    <tr>\n      <th>634</th>\n      <td>0</td>\n      <td>3</td>\n      <td>female</td>\n      <td>9.0</td>\n      <td>3</td>\n      <td>2</td>\n      <td>27.9000</td>\n      <td>S</td>\n      <td>Third</td>\n      <td>child</td>\n      <td>False</td>\n      <td>F</td>\n      <td>Southampton</td>\n      <td>no</td>\n      <td>False</td>\n      <td>634</td>\n    </tr>\n    <tr>\n      <th>819</th>\n      <td>0</td>\n      <td>3</td>\n      <td>male</td>\n      <td>10.0</td>\n      <td>3</td>\n      <td>2</td>\n      <td>27.9000</td>\n      <td>S</td>\n      <td>Third</td>\n      <td>child</td>\n      <td>False</td>\n      <td>F</td>\n      <td>Southampton</td>\n      <td>no</td>\n      <td>False</td>\n      <td>819</td>\n    </tr>\n  </tbody>\n</table>\n</div>"
     },
     "execution_count": 49,
     "metadata": {},
     "output_type": "execute_result"
    }
   ],
   "source": [
    "# Люди, заплатившие за третий класс больше 25 фунтов (второй билет во второй класс стоил от 15, а в первый от 30 фунтов)\n",
    "titanic[titanic.pclass == 3].sort_values(\"fare\", ascending=False).head(50)"
   ],
   "metadata": {
    "collapsed": false,
    "pycharm": {
     "name": "#%%\n"
    }
   }
  },
  {
   "cell_type": "code",
   "execution_count": 50,
   "outputs": [
    {
     "data": {
      "text/plain": "     survived  pclass     sex   age  sibsp  parch  fare embarked   class  \\\n665         0       2    male  32.0      2      0  73.5        S  Second   \n72          0       2    male  21.0      0      0  73.5        S  Second   \n385         0       2    male  18.0      0      0  73.5        S  Second   \n120         0       2    male  21.0      2      0  73.5        S  Second   \n655         0       2    male  24.0      2      0  73.5        S  Second   \n615         1       2  female  24.0      1      2  65.0        S  Second   \n754         1       2  female  48.0      1      2  65.0        S  Second   \n\n       who  adult_male deck  embark_town alive  alone  passenger_id  \n665    man        True    F  Southampton    no  False           665  \n72     man        True    D  Southampton    no   True            72  \n385    man        True    F  Southampton    no   True           385  \n120    man        True    F  Southampton    no  False           120  \n655    man        True    F  Southampton    no  False           655  \n615  woman       False    F  Southampton   yes  False           615  \n754  woman       False    F  Southampton   yes  False           754  ",
      "text/html": "<div>\n<style scoped>\n    .dataframe tbody tr th:only-of-type {\n        vertical-align: middle;\n    }\n\n    .dataframe tbody tr th {\n        vertical-align: top;\n    }\n\n    .dataframe thead th {\n        text-align: right;\n    }\n</style>\n<table border=\"1\" class=\"dataframe\">\n  <thead>\n    <tr style=\"text-align: right;\">\n      <th></th>\n      <th>survived</th>\n      <th>pclass</th>\n      <th>sex</th>\n      <th>age</th>\n      <th>sibsp</th>\n      <th>parch</th>\n      <th>fare</th>\n      <th>embarked</th>\n      <th>class</th>\n      <th>who</th>\n      <th>adult_male</th>\n      <th>deck</th>\n      <th>embark_town</th>\n      <th>alive</th>\n      <th>alone</th>\n      <th>passenger_id</th>\n    </tr>\n  </thead>\n  <tbody>\n    <tr>\n      <th>665</th>\n      <td>0</td>\n      <td>2</td>\n      <td>male</td>\n      <td>32.0</td>\n      <td>2</td>\n      <td>0</td>\n      <td>73.5</td>\n      <td>S</td>\n      <td>Second</td>\n      <td>man</td>\n      <td>True</td>\n      <td>F</td>\n      <td>Southampton</td>\n      <td>no</td>\n      <td>False</td>\n      <td>665</td>\n    </tr>\n    <tr>\n      <th>72</th>\n      <td>0</td>\n      <td>2</td>\n      <td>male</td>\n      <td>21.0</td>\n      <td>0</td>\n      <td>0</td>\n      <td>73.5</td>\n      <td>S</td>\n      <td>Second</td>\n      <td>man</td>\n      <td>True</td>\n      <td>D</td>\n      <td>Southampton</td>\n      <td>no</td>\n      <td>True</td>\n      <td>72</td>\n    </tr>\n    <tr>\n      <th>385</th>\n      <td>0</td>\n      <td>2</td>\n      <td>male</td>\n      <td>18.0</td>\n      <td>0</td>\n      <td>0</td>\n      <td>73.5</td>\n      <td>S</td>\n      <td>Second</td>\n      <td>man</td>\n      <td>True</td>\n      <td>F</td>\n      <td>Southampton</td>\n      <td>no</td>\n      <td>True</td>\n      <td>385</td>\n    </tr>\n    <tr>\n      <th>120</th>\n      <td>0</td>\n      <td>2</td>\n      <td>male</td>\n      <td>21.0</td>\n      <td>2</td>\n      <td>0</td>\n      <td>73.5</td>\n      <td>S</td>\n      <td>Second</td>\n      <td>man</td>\n      <td>True</td>\n      <td>F</td>\n      <td>Southampton</td>\n      <td>no</td>\n      <td>False</td>\n      <td>120</td>\n    </tr>\n    <tr>\n      <th>655</th>\n      <td>0</td>\n      <td>2</td>\n      <td>male</td>\n      <td>24.0</td>\n      <td>2</td>\n      <td>0</td>\n      <td>73.5</td>\n      <td>S</td>\n      <td>Second</td>\n      <td>man</td>\n      <td>True</td>\n      <td>F</td>\n      <td>Southampton</td>\n      <td>no</td>\n      <td>False</td>\n      <td>655</td>\n    </tr>\n    <tr>\n      <th>615</th>\n      <td>1</td>\n      <td>2</td>\n      <td>female</td>\n      <td>24.0</td>\n      <td>1</td>\n      <td>2</td>\n      <td>65.0</td>\n      <td>S</td>\n      <td>Second</td>\n      <td>woman</td>\n      <td>False</td>\n      <td>F</td>\n      <td>Southampton</td>\n      <td>yes</td>\n      <td>False</td>\n      <td>615</td>\n    </tr>\n    <tr>\n      <th>754</th>\n      <td>1</td>\n      <td>2</td>\n      <td>female</td>\n      <td>48.0</td>\n      <td>1</td>\n      <td>2</td>\n      <td>65.0</td>\n      <td>S</td>\n      <td>Second</td>\n      <td>woman</td>\n      <td>False</td>\n      <td>F</td>\n      <td>Southampton</td>\n      <td>yes</td>\n      <td>False</td>\n      <td>754</td>\n    </tr>\n  </tbody>\n</table>\n</div>"
     },
     "execution_count": 50,
     "metadata": {},
     "output_type": "execute_result"
    }
   ],
   "source": [
    "# Люди, заплатившие за второй класс больше 60 фунтов (когда билет в первый класс стоил от 30 фунтов)\n",
    "titanic[titanic.pclass == 2].sort_values(\"fare\", ascending=False).head(7)"
   ],
   "metadata": {
    "collapsed": false,
    "pycharm": {
     "name": "#%%\n"
    }
   }
  },
  {
   "cell_type": "code",
   "execution_count": 51,
   "outputs": [
    {
     "data": {
      "text/plain": "survived                  0\npclass                    1\nsex                    male\nage                    33.0\nsibsp                     0\nparch                     0\nfare                    5.0\nembarked                  S\nclass                 First\nwho                     man\nadult_male             True\ndeck                      B\nembark_town     Southampton\nalive                    no\nalone                  True\npassenger_id            872\nName: 872, dtype: object"
     },
     "execution_count": 51,
     "metadata": {},
     "output_type": "execute_result"
    }
   ],
   "source": [
    "# Заплатил за проезд в первом классе 5 фунтов (Это все пасхалки, которые я должен был найти?)\n",
    "titanic[titanic.pclass == 1].sort_values(\"fare\").iloc[5]"
   ],
   "metadata": {
    "collapsed": false,
    "pycharm": {
     "name": "#%%\n"
    }
   }
  },
  {
   "cell_type": "code",
   "execution_count": 52,
   "outputs": [],
   "source": [
    "# В этой таблице только выжившие\n",
    "titanic_alive = titanic.loc[titanic.survived == 1]"
   ],
   "metadata": {
    "collapsed": false,
    "pycharm": {
     "name": "#%%\n"
    }
   }
  },
  {
   "cell_type": "code",
   "execution_count": 53,
   "outputs": [
    {
     "name": "stdout",
     "output_type": "stream",
     "text": [
      "Старый процент живых мужчин:\t\t 0.6026936026936027\n",
      "Новый процент живых мужчин:\t\t\t 0.2573099415204678\n",
      "Изменение процента живых мужчин:\t -0.3453836611731349\n"
     ]
    }
   ],
   "source": [
    "# Изменение процент взрослых мужчин\n",
    "print(\"Старый процент живых мужчин:\\t\\t\", titanic.loc[titanic.adult_male == True].passenger_id.count() / titanic.shape[0])\n",
    "print(\"Новый процент живых мужчин:\\t\\t\\t\", titanic_alive.loc[titanic_alive.adult_male == True].passenger_id.count() / titanic_alive.shape[0])\n",
    "print(\"Изменение процента живых мужчин:\\t\", titanic_alive.loc[titanic_alive.adult_male == True].passenger_id.count() / titanic_alive.shape[0] - titanic.loc[titanic.adult_male == True].passenger_id.count() / titanic.shape[0])"
   ],
   "metadata": {
    "collapsed": false,
    "pycharm": {
     "name": "#%%\n"
    }
   }
  },
  {
   "cell_type": "code",
   "execution_count": 54,
   "outputs": [
    {
     "name": "stdout",
     "output_type": "stream",
     "text": [
      "Шанс выжить, если ты женщина: 0.7420382165605095\n",
      "Шанс выжить, если ты мужчина: 0.18890814558058924\n"
     ]
    }
   ],
   "source": [
    "bef, aft = list(titanic.groupby(\"sex\").agg(\"sex\").count()), list(titanic_alive.groupby(\"sex\").agg(\"sex\").count())\n",
    "print(\"Шанс выжить, если ты женщина:\", aft[0] / bef[0])\n",
    "print(\"Шанс выжить, если ты мужчина:\", aft[1] / bef[1])"
   ],
   "metadata": {
    "collapsed": false,
    "pycharm": {
     "name": "#%%\n"
    }
   }
  },
  {
   "cell_type": "code",
   "execution_count": 55,
   "outputs": [
    {
     "name": "stdout",
     "output_type": "stream",
     "text": [
      "Шанс выжить, если плыл в первом классе: 0.6296296296296297\n",
      "Шанс выжить, если был во втором классе: 0.47282608695652173\n",
      "Шанс выжить, если был в третьем классе: 0.24236252545824846\n"
     ]
    }
   ],
   "source": [
    "bef, aft = list(titanic.groupby(\"class\").agg(\"class\").count()), list(titanic_alive.groupby(\"class\").agg(\"class\").count())\n",
    "print(\"Шанс выжить, если плыл в первом классе:\", aft[0] / bef[0])\n",
    "print(\"Шанс выжить, если был во втором классе:\", aft[1] / bef[1])\n",
    "print(\"Шанс выжить, если был в третьем классе:\", aft[2] / bef[2])"
   ],
   "metadata": {
    "collapsed": false,
    "pycharm": {
     "name": "#%%\n"
    }
   }
  },
  {
   "cell_type": "code",
   "execution_count": 56,
   "outputs": [
    {
     "name": "stdout",
     "output_type": "stream",
     "text": [
      "Шанс выжить, если плыл в компании: 0.5056497175141242\n",
      "Шанс выжить, если плыл в одиночку: 0.30353817504655495\n"
     ]
    }
   ],
   "source": [
    "bef, aft = list(titanic.groupby(\"alone\").agg(\"alone\").count()), list(titanic_alive.groupby(\"alone\").agg(\"alone\").count())\n",
    "print(\"Шанс выжить, если плыл в компании:\", aft[0] / bef[0])\n",
    "print(\"Шанс выжить, если плыл в одиночку:\", aft[1] / bef[1])"
   ],
   "metadata": {
    "collapsed": false,
    "pycharm": {
     "name": "#%%\n"
    }
   }
  },
  {
   "cell_type": "code",
   "execution_count": 57,
   "outputs": [
    {
     "name": "stdout",
     "output_type": "stream",
     "text": [
      "28.7375645342312 27.72125730994152\n"
     ]
    }
   ],
   "source": [
    "bef, aft = titanic.age.mean(), titanic_alive.age.mean()\n",
    "print(bef, aft)  # В принципе средний возраст плывшвих не отличается от среднего возраста выживших"
   ],
   "metadata": {
    "collapsed": false,
    "pycharm": {
     "name": "#%%\n"
    }
   }
  },
  {
   "cell_type": "code",
   "execution_count": 58,
   "outputs": [],
   "source": [
    "# Сохраняем табличку\n",
    "titanic.to_csv('titanic_with_data.csv', header=True, index=False)"
   ],
   "metadata": {
    "collapsed": false,
    "pycharm": {
     "name": "#%%\n"
    }
   }
  }
 ],
 "metadata": {
  "kernelspec": {
   "display_name": "Python 3",
   "language": "python",
   "name": "python3"
  },
  "language_info": {
   "codemirror_mode": {
    "name": "ipython",
    "version": 2
   },
   "file_extension": ".py",
   "mimetype": "text/x-python",
   "name": "python",
   "nbconvert_exporter": "python",
   "pygments_lexer": "ipython2",
   "version": "2.7.6"
  }
 },
 "nbformat": 4,
 "nbformat_minor": 0
}